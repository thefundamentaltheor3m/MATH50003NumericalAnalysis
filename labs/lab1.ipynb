{
 "cells": [
  {
   "cell_type": "markdown",
   "metadata": {},
   "source": [
    "# MATH50003 (2022–23)\n",
    "# Lab 1: Introduction to Julia\n",
    "\n",
    "This problem sheet is designed to introduce some basic Julia\n",
    "knowledge. Note each problem has multiple solutions, and the solution\n",
    "sheet will show different ways of solving the same problem. We will discuss the\n",
    "following:\n",
    "\n",
    "1. Integers\n",
    "2. Reals\n",
    "2. Strings and parsing\n",
    "3. Types\n",
    "\n",
    "In assessment, _any_ \"solution\" will be accepted provided it does the right thing!\n",
    "So you do not need to be able to write broadcasting or comprehensions\n",
    "if you can do for loops.\n",
    "\n",
    "We load the following packages:"
   ]
  },
  {
   "cell_type": "code",
   "execution_count": 1,
   "metadata": {
    "execution": {
     "iopub.execute_input": "2023-01-17T14:30:13.775000Z",
     "iopub.status.busy": "2023-01-17T14:30:13.283000Z",
     "iopub.status.idle": "2023-01-17T14:30:13.988000Z",
     "shell.execute_reply": "2023-01-17T14:30:13.940000Z"
    }
   },
   "outputs": [],
   "source": [
    "using ColorBitstring, Test"
   ]
  },
  {
   "cell_type": "markdown",
   "metadata": {},
   "source": [
    "## 1. Integers\n",
    "\n",
    "Every primitive number type is stored as a sequence of bits. \n",
    "The number of _bytes_ (i.e. 8-bits) can be deduced using the `sizeof` function:"
   ]
  },
  {
   "cell_type": "code",
   "execution_count": 2,
   "metadata": {
    "execution": {
     "iopub.execute_input": "2023-01-17T14:30:13.990000Z",
     "iopub.status.busy": "2023-01-17T14:30:13.990000Z",
     "iopub.status.idle": "2023-01-17T14:30:14.401000Z",
     "shell.execute_reply": "2023-01-17T14:30:14.400000Z"
    }
   },
   "outputs": [
    {
     "data": {
      "text/plain": [
       "4"
      ]
     },
     "execution_count": 2,
     "metadata": {},
     "output_type": "execute_result"
    }
   ],
   "source": [
    "sizeof(UInt32) # 4 bytes == 4*8 bits == 32 bits"
   ]
  },
  {
   "cell_type": "markdown",
   "metadata": {},
   "source": [
    "The function `typeof` can be used to determine the type of a number.\n",
    "By default when we write an integer (e.g. `-123`) it is of type `Int`:"
   ]
  },
  {
   "cell_type": "code",
   "execution_count": 3,
   "metadata": {
    "execution": {
     "iopub.execute_input": "2023-01-17T14:30:14.430000Z",
     "iopub.status.busy": "2023-01-17T14:30:14.430000Z",
     "iopub.status.idle": "2023-01-17T14:30:14.862000Z",
     "shell.execute_reply": "2023-01-17T14:30:14.862000Z"
    }
   },
   "outputs": [
    {
     "data": {
      "text/plain": [
       "Int64"
      ]
     },
     "execution_count": 3,
     "metadata": {},
     "output_type": "execute_result"
    }
   ],
   "source": [
    "typeof(5)"
   ]
  },
  {
   "cell_type": "markdown",
   "metadata": {},
   "source": [
    "**Problem 1.1** Use `sizeof` to determine how many bits your machine uses for the type `Int`."
   ]
  },
  {
   "cell_type": "code",
   "execution_count": null,
   "metadata": {},
   "outputs": [],
   "source": []
  },
  {
   "cell_type": "markdown",
   "metadata": {},
   "source": [
    "There are a few ways to create other types of integers. Conversion\n",
    "converts between different types:"
   ]
  },
  {
   "cell_type": "code",
   "execution_count": 4,
   "metadata": {
    "execution": {
     "iopub.execute_input": "2023-01-17T14:30:14.865000Z",
     "iopub.status.busy": "2023-01-17T14:30:14.865000Z",
     "iopub.status.idle": "2023-01-17T14:30:15.041000Z",
     "shell.execute_reply": "2023-01-17T14:30:15.040000Z"
    }
   },
   "outputs": [
    {
     "data": {
      "text/plain": [
       "0x05"
      ]
     },
     "execution_count": 4,
     "metadata": {},
     "output_type": "execute_result"
    }
   ],
   "source": [
    "UInt8(5) # converts an `Int` to an `UInt8`, displaying the result in hex"
   ]
  },
  {
   "cell_type": "markdown",
   "metadata": {},
   "source": [
    "This fails if a number cannot be represented as a specified type:"
   ]
  },
  {
   "cell_type": "code",
   "execution_count": 5,
   "metadata": {
    "execution": {
     "iopub.execute_input": "2023-01-17T14:30:15.043000Z",
     "iopub.status.busy": "2023-01-17T14:30:15.043000Z",
     "iopub.status.idle": "2023-01-17T14:30:16.019000Z",
     "shell.execute_reply": "2023-01-17T14:30:16.019000Z"
    }
   },
   "outputs": [
    {
     "ename": "LoadError",
     "evalue": "InexactError: trunc(UInt8, -5)",
     "output_type": "error",
     "traceback": [
      "InexactError: trunc(UInt8, -5)",
      "",
      "Stacktrace:",
      " [1] throw_inexacterror(f::Symbol, #unused#::Type{UInt8}, val::Int64)",
      "   @ Core ./boot.jl:614",
      " [2] checked_trunc_uint",
      "   @ ./boot.jl:644 [inlined]",
      " [3] toUInt8",
      "   @ ./boot.jl:706 [inlined]",
      " [4] UInt8(x::Int64)",
      "   @ Core ./boot.jl:766",
      " [5] top-level scope",
      "   @ In[5]:1"
     ]
    }
   ],
   "source": [
    "UInt8(-5) # No negative numbers"
   ]
  },
  {
   "cell_type": "code",
   "execution_count": 6,
   "metadata": {
    "execution": {
     "iopub.execute_input": "2023-01-17T14:30:16.022000Z",
     "iopub.status.busy": "2023-01-17T14:30:16.022000Z",
     "iopub.status.idle": "2023-01-17T14:30:16.027000Z",
     "shell.execute_reply": "2023-01-17T14:30:16.027000Z"
    }
   },
   "outputs": [
    {
     "ename": "LoadError",
     "evalue": "InexactError: trunc(UInt8, 256)",
     "output_type": "error",
     "traceback": [
      "InexactError: trunc(UInt8, 256)",
      "",
      "Stacktrace:",
      " [1] throw_inexacterror(f::Symbol, #unused#::Type{UInt8}, val::Int64)",
      "   @ Core ./boot.jl:614",
      " [2] checked_trunc_uint",
      "   @ ./boot.jl:644 [inlined]",
      " [3] toUInt8",
      "   @ ./boot.jl:706 [inlined]",
      " [4] UInt8(x::Int64)",
      "   @ Core ./boot.jl:766",
      " [5] top-level scope",
      "   @ In[6]:1"
     ]
    }
   ],
   "source": [
    "UInt8(2^8) # no numbers above 2^8-1"
   ]
  },
  {
   "cell_type": "markdown",
   "metadata": {},
   "source": [
    "(These can also be written as e.g. `convert(UInt8, 5)`.)\n",
    "We can also create unsigned integers by specifying their bits\n",
    "by writing `0b` followed by a sequence of bits:"
   ]
  },
  {
   "cell_type": "code",
   "execution_count": 7,
   "metadata": {
    "execution": {
     "iopub.execute_input": "2023-01-17T14:30:16.030000Z",
     "iopub.status.busy": "2023-01-17T14:30:16.030000Z",
     "iopub.status.idle": "2023-01-17T14:30:16.031000Z",
     "shell.execute_reply": "2023-01-17T14:30:16.031000Z"
    }
   },
   "outputs": [
    {
     "data": {
      "text/plain": [
       "0x05"
      ]
     },
     "execution_count": 7,
     "metadata": {},
     "output_type": "execute_result"
    }
   ],
   "source": [
    "0b101 # isa UInt8, the smallest type with at least 3 bits"
   ]
  },
  {
   "cell_type": "code",
   "execution_count": 8,
   "metadata": {
    "execution": {
     "iopub.execute_input": "2023-01-17T14:30:16.035000Z",
     "iopub.status.busy": "2023-01-17T14:30:16.035000Z",
     "iopub.status.idle": "2023-01-17T14:30:16.215000Z",
     "shell.execute_reply": "2023-01-17T14:30:16.214000Z"
    }
   },
   "outputs": [
    {
     "data": {
      "text/plain": [
       "0x05dd"
      ]
     },
     "execution_count": 8,
     "metadata": {},
     "output_type": "execute_result"
    }
   ],
   "source": [
    "0b10111011101 # isa UInt16, the smallest type with at least 11 bits"
   ]
  },
  {
   "cell_type": "markdown",
   "metadata": {},
   "source": [
    "Or in base-16 using hexadecimal format (with digits `0–9a–f` following\n",
    "an `0x`), where each digit takes 4 bits to represent (since $2^4 = 16$):"
   ]
  },
  {
   "cell_type": "code",
   "execution_count": 9,
   "metadata": {
    "execution": {
     "iopub.execute_input": "2023-01-17T14:30:16.218000Z",
     "iopub.status.busy": "2023-01-17T14:30:16.218000Z",
     "iopub.status.idle": "2023-01-17T14:30:16.397000Z",
     "shell.execute_reply": "2023-01-17T14:30:16.397000Z"
    }
   },
   "outputs": [
    {
     "data": {
      "text/plain": [
       "0x000abcde"
      ]
     },
     "execution_count": 9,
     "metadata": {},
     "output_type": "execute_result"
    }
   ],
   "source": [
    "0xabcde # isa UInt32, the smallest type with at least 4*5 = 20 bits"
   ]
  },
  {
   "cell_type": "markdown",
   "metadata": {},
   "source": [
    "**Problem 1.2** Use binary format to create an `Int` corresponding to $(101101)_2$."
   ]
  },
  {
   "cell_type": "code",
   "execution_count": null,
   "metadata": {},
   "outputs": [],
   "source": []
  },
  {
   "cell_type": "markdown",
   "metadata": {},
   "source": [
    "**Problem 1.3** What happens if you specify more than 64 bits using `0b⋅⋅…⋅⋅`? \n",
    "What if you specify more than 128 bits?"
   ]
  },
  {
   "cell_type": "code",
   "execution_count": null,
   "metadata": {},
   "outputs": [],
   "source": []
  },
  {
   "cell_type": "markdown",
   "metadata": {},
   "source": [
    "We can also reinterpret a sequence of bits in a different format:"
   ]
  },
  {
   "cell_type": "code",
   "execution_count": 10,
   "metadata": {
    "execution": {
     "iopub.execute_input": "2023-01-17T14:30:16.401000Z",
     "iopub.status.busy": "2023-01-17T14:30:16.400000Z",
     "iopub.status.idle": "2023-01-17T14:30:16.583000Z",
     "shell.execute_reply": "2023-01-17T14:30:16.583000Z"
    }
   },
   "outputs": [
    {
     "data": {
      "text/plain": [
       "-1"
      ]
     },
     "execution_count": 10,
     "metadata": {},
     "output_type": "execute_result"
    }
   ],
   "source": [
    "reinterpret(Int8, 0b11111111) # Create an Int8 with the bits 11111111"
   ]
  },
  {
   "cell_type": "markdown",
   "metadata": {},
   "source": [
    "Arithmetic follows modular arithmetic. The following examples test your understanding of this.\n",
    "\n",
    "**Problem 1.5** Can you predict what the output of the following will be before hitting return?"
   ]
  },
  {
   "cell_type": "code",
   "execution_count": 11,
   "metadata": {
    "execution": {
     "iopub.execute_input": "2023-01-17T14:30:16.586000Z",
     "iopub.status.busy": "2023-01-17T14:30:16.586000Z",
     "iopub.status.idle": "2023-01-17T14:30:16.589000Z",
     "shell.execute_reply": "2023-01-17T14:30:16.589000Z"
    }
   },
   "outputs": [],
   "source": [
    "UInt8(120) + UInt8(10); # Convert to `Int` to see the number printed in decimal"
   ]
  },
  {
   "cell_type": "code",
   "execution_count": 12,
   "metadata": {
    "execution": {
     "iopub.execute_input": "2023-01-17T14:30:16.591000Z",
     "iopub.status.busy": "2023-01-17T14:30:16.591000Z",
     "iopub.status.idle": "2023-01-17T14:30:16.595000Z",
     "shell.execute_reply": "2023-01-17T14:30:16.594000Z"
    }
   },
   "outputs": [],
   "source": [
    "Int8(120) + Int8(10);"
   ]
  },
  {
   "cell_type": "code",
   "execution_count": 13,
   "metadata": {
    "execution": {
     "iopub.execute_input": "2023-01-17T14:30:16.596000Z",
     "iopub.status.busy": "2023-01-17T14:30:16.596000Z",
     "iopub.status.idle": "2023-01-17T14:30:16.614000Z",
     "shell.execute_reply": "2023-01-17T14:30:16.613000Z"
    }
   },
   "outputs": [],
   "source": [
    "UInt8(2)^7;"
   ]
  },
  {
   "cell_type": "code",
   "execution_count": 14,
   "metadata": {
    "execution": {
     "iopub.execute_input": "2023-01-17T14:30:16.616000Z",
     "iopub.status.busy": "2023-01-17T14:30:16.616000Z",
     "iopub.status.idle": "2023-01-17T14:30:16.634000Z",
     "shell.execute_reply": "2023-01-17T14:30:16.634000Z"
    }
   },
   "outputs": [],
   "source": [
    "Int8(2)^7;"
   ]
  },
  {
   "cell_type": "code",
   "execution_count": 15,
   "metadata": {
    "execution": {
     "iopub.execute_input": "2023-01-17T14:30:16.636000Z",
     "iopub.status.busy": "2023-01-17T14:30:16.636000Z",
     "iopub.status.idle": "2023-01-17T14:30:16.639000Z",
     "shell.execute_reply": "2023-01-17T14:30:16.639000Z"
    }
   },
   "outputs": [],
   "source": [
    "Int8(2)^8;"
   ]
  },
  {
   "cell_type": "markdown",
   "metadata": {},
   "source": [
    "## 2. Reals\n",
    "\n",
    "Real numbers interpret a sequence of bits in floating point format. \n",
    "\n",
    "**Problem 2.1** Use `printbits` to guess the binary representation of $1/5$."
   ]
  },
  {
   "cell_type": "code",
   "execution_count": null,
   "metadata": {},
   "outputs": [],
   "source": []
  },
  {
   "cell_type": "markdown",
   "metadata": {},
   "source": [
    "**Problem 2.2** Create a positive `Float16` whose exponent is $q = 156$ and has significand\n",
    "bits\n",
    "$$\n",
    "b_k = \\begin{cases}\n",
    "    1 & k\\hbox{ is prime} \\\\\n",
    "    0 & \\hbox{otherwise}\n",
    "    \\end{cases}\n",
    "$$"
   ]
  },
  {
   "cell_type": "code",
   "execution_count": null,
   "metadata": {},
   "outputs": [],
   "source": []
  },
  {
   "cell_type": "markdown",
   "metadata": {},
   "source": [
    "**Problem 2.3** Create the smallest postive non-zero sub-normal `Float16` by specifying\n",
    "its bits."
   ]
  },
  {
   "cell_type": "code",
   "execution_count": null,
   "metadata": {},
   "outputs": [],
   "source": []
  },
  {
   "cell_type": "markdown",
   "metadata": {},
   "source": [
    "## 3. Strings and parsing\n",
    "\n",
    "Strings are a convenient way of representing arbitrary strings of digits.\n",
    "For example we can convert bits of a number to a string of \"1\"s and \"0\"s using the function `bitstring`.\n",
    "\n",
    "**Problem 3.1** Can you predict what the output of the following will be before hitting return?"
   ]
  },
  {
   "cell_type": "code",
   "execution_count": 16,
   "metadata": {
    "execution": {
     "iopub.execute_input": "2023-01-17T14:30:16.642000Z",
     "iopub.status.busy": "2023-01-17T14:30:16.641000Z",
     "iopub.status.idle": "2023-01-17T14:30:16.655000Z",
     "shell.execute_reply": "2023-01-17T14:30:16.654000Z"
    }
   },
   "outputs": [],
   "source": [
    "bitstring(11);  # Semi-colon prohibits output, delete to check your answer"
   ]
  },
  {
   "cell_type": "code",
   "execution_count": 17,
   "metadata": {
    "execution": {
     "iopub.execute_input": "2023-01-17T14:30:16.657000Z",
     "iopub.status.busy": "2023-01-17T14:30:16.656000Z",
     "iopub.status.idle": "2023-01-17T14:30:16.657000Z",
     "shell.execute_reply": "2023-01-17T14:30:16.657000Z"
    }
   },
   "outputs": [],
   "source": [
    "bitstring(-11);"
   ]
  },
  {
   "cell_type": "markdown",
   "metadata": {},
   "source": [
    "We can `parse` a string of digits in base 2 or 10:"
   ]
  },
  {
   "cell_type": "code",
   "execution_count": 18,
   "metadata": {
    "execution": {
     "iopub.execute_input": "2023-01-17T14:30:16.660000Z",
     "iopub.status.busy": "2023-01-17T14:30:16.660000Z",
     "iopub.status.idle": "2023-01-17T14:30:16.954000Z",
     "shell.execute_reply": "2023-01-17T14:30:16.953000Z"
    }
   },
   "outputs": [
    {
     "data": {
      "text/plain": [
       "(3, 11)"
      ]
     },
     "execution_count": 18,
     "metadata": {},
     "output_type": "execute_result"
    }
   ],
   "source": [
    "parse(Int8, \"11\"; base=2), \n",
    "parse(Int8, \"00001011\"; base=2)"
   ]
  },
  {
   "cell_type": "markdown",
   "metadata": {},
   "source": [
    "Be careful with \"negative\" numbers:"
   ]
  },
  {
   "cell_type": "code",
   "execution_count": 19,
   "metadata": {
    "execution": {
     "iopub.execute_input": "2023-01-17T14:30:16.957000Z",
     "iopub.status.busy": "2023-01-17T14:30:16.957000Z",
     "iopub.status.idle": "2023-01-17T14:30:17.000000Z",
     "shell.execute_reply": "2023-01-17T14:30:16.999000Z"
    }
   },
   "outputs": [
    {
     "ename": "LoadError",
     "evalue": "OverflowError: overflow parsing \"10001011\"",
     "output_type": "error",
     "traceback": [
      "OverflowError: overflow parsing \"10001011\"",
      "",
      "Stacktrace:",
      " [1] tryparse_internal(#unused#::Type{Int8}, s::String, startpos::Int64, endpos::Int64, base_::Int64, raise::Bool)",
      "   @ Base ./parse.jl:163",
      " [2] parse(::Type{Int8}, s::String; base::Int64)",
      "   @ Base ./parse.jl:241",
      " [3] top-level scope",
      "   @ In[19]:1"
     ]
    }
   ],
   "source": [
    "parse(Int8, \"10001011\"; base=2)"
   ]
  },
  {
   "cell_type": "markdown",
   "metadata": {},
   "source": [
    "It treats the string as binary digits, NOT bits. That is, negative numbers\n",
    "are represented using the minus sign:"
   ]
  },
  {
   "cell_type": "code",
   "execution_count": 20,
   "metadata": {
    "execution": {
     "iopub.execute_input": "2023-01-17T14:30:17.003000Z",
     "iopub.status.busy": "2023-01-17T14:30:17.003000Z",
     "iopub.status.idle": "2023-01-17T14:30:17.004000Z",
     "shell.execute_reply": "2023-01-17T14:30:17.004000Z"
    }
   },
   "outputs": [
    {
     "data": {
      "text/plain": [
       "-11"
      ]
     },
     "execution_count": 20,
     "metadata": {},
     "output_type": "execute_result"
    }
   ],
   "source": [
    "parse(Int8, \"-00001011\"; base=2)"
   ]
  },
  {
   "cell_type": "markdown",
   "metadata": {},
   "source": [
    "**Problem 3.2** Combine `parse`, `reinterpret`, and `UInt8` to convert the\n",
    "above string to a (negative) `Int8` with the specified bits.\n",
    "\n",
    "\n",
    "To concatenate strings we use `*` (multiplication is used because string concatenation\n",
    "is non-commutative):"
   ]
  },
  {
   "cell_type": "code",
   "execution_count": 21,
   "metadata": {
    "execution": {
     "iopub.execute_input": "2023-01-17T14:30:17.007000Z",
     "iopub.status.busy": "2023-01-17T14:30:17.007000Z",
     "iopub.status.idle": "2023-01-17T14:30:17.488000Z",
     "shell.execute_reply": "2023-01-17T14:30:17.488000Z"
    }
   },
   "outputs": [
    {
     "data": {
      "text/plain": [
       "\"hibye\""
      ]
     },
     "execution_count": 21,
     "metadata": {},
     "output_type": "execute_result"
    }
   ],
   "source": [
    "\"hi\" * \"bye\""
   ]
  },
  {
   "cell_type": "markdown",
   "metadata": {},
   "source": [
    "The string consisting of the first nine characters can be found using `str[1:9]` where `str` is any string:"
   ]
  },
  {
   "cell_type": "code",
   "execution_count": 22,
   "metadata": {
    "execution": {
     "iopub.execute_input": "2023-01-17T14:30:17.491000Z",
     "iopub.status.busy": "2023-01-17T14:30:17.491000Z",
     "iopub.status.idle": "2023-01-17T14:30:17.492000Z",
     "shell.execute_reply": "2023-01-17T14:30:17.492000Z"
    }
   },
   "outputs": [
    {
     "data": {
      "text/plain": [
       "\"hibye0123\""
      ]
     },
     "execution_count": 22,
     "metadata": {},
     "output_type": "execute_result"
    }
   ],
   "source": [
    "str=\"hibye0123445556\"\n",
    "str[1:9]  # returns \"hibye0123\""
   ]
  },
  {
   "cell_type": "markdown",
   "metadata": {},
   "source": [
    "The string consisting of the 11th through last character can be found using `str[11:end]`:"
   ]
  },
  {
   "cell_type": "code",
   "execution_count": 23,
   "metadata": {
    "execution": {
     "iopub.execute_input": "2023-01-17T14:30:17.495000Z",
     "iopub.status.busy": "2023-01-17T14:30:17.495000Z",
     "iopub.status.idle": "2023-01-17T14:30:17.497000Z",
     "shell.execute_reply": "2023-01-17T14:30:17.496000Z"
    }
   },
   "outputs": [
    {
     "data": {
      "text/plain": [
       "\"45556\""
      ]
     },
     "execution_count": 23,
     "metadata": {},
     "output_type": "execute_result"
    }
   ],
   "source": [
    "str=\"hibye0123445556\"\n",
    "str[11:end]  # returns \"45556\""
   ]
  },
  {
   "cell_type": "markdown",
   "metadata": {},
   "source": [
    "**Problem 3.3** Complete the following function that sets the 10th bit of an `Int32` to `1`,\n",
    "and returns an `Int32`, assuming that the input is a positive integer, using `bitstring`,\n",
    "`parse` and `*`."
   ]
  },
  {
   "cell_type": "code",
   "execution_count": 24,
   "metadata": {
    "execution": {
     "iopub.execute_input": "2023-01-17T14:30:17.501000Z",
     "iopub.status.busy": "2023-01-17T14:30:17.501000Z",
     "iopub.status.idle": "2023-01-17T14:30:18.051000Z",
     "shell.execute_reply": "2023-01-17T14:30:18.051000Z"
    }
   },
   "outputs": [
    {
     "name": "stdout",
     "output_type": "stream",
     "text": [
      "\u001b[91m\u001b[1mTest Failed\u001b[22m\u001b[39m at \u001b[39m\u001b[1mIn[24]:6\u001b[22m\n",
      "  Expression: tenthbitto1(Int32(100)) ≡ Int32(4194404)\n",
      "   Evaluated: nothing ≡ 4194404\n"
     ]
    },
    {
     "ename": "LoadError",
     "evalue": "\u001b[91mThere was an error during testing\u001b[39m",
     "output_type": "error",
     "traceback": [
      "\u001b[91mThere was an error during testing\u001b[39m",
      "",
      "Stacktrace:",
      " [1] record(ts::Test.FallbackTestSet, t::Union{Test.Error, Test.Fail})",
      "   @ Test ~/Projects/julia-1.8/usr/share/julia/stdlib/v1.8/Test/src/Test.jl:943",
      " [2] do_test(result::Test.ExecutionResult, orig_expr::Any)",
      "   @ Test ~/Projects/julia-1.8/usr/share/julia/stdlib/v1.8/Test/src/Test.jl:656",
      " [3] top-level scope",
      "   @ ~/Projects/julia-1.8/usr/share/julia/stdlib/v1.8/Test/src/Test.jl:464"
     ]
    }
   ],
   "source": [
    "function tenthbitto1(x::Int32)\n",
    "    ## TODO: change the 10th bit of `x` to 1\n",
    "end\n",
    "\n",
    "# unit tests are to help you check your result\n",
    "@test tenthbitto1(Int32(100)) ≡ Int32(4194404)"
   ]
  },
  {
   "cell_type": "markdown",
   "metadata": {},
   "source": [
    "**Problem 3.4**  Modify the previous function to also work with negative numbers."
   ]
  },
  {
   "cell_type": "code",
   "execution_count": 25,
   "metadata": {
    "execution": {
     "iopub.execute_input": "2023-01-17T14:30:18.054000Z",
     "iopub.status.busy": "2023-01-17T14:30:18.054000Z",
     "iopub.status.idle": "2023-01-17T14:30:18.058000Z",
     "shell.execute_reply": "2023-01-17T14:30:18.057000Z"
    }
   },
   "outputs": [
    {
     "name": "stdout",
     "output_type": "stream",
     "text": [
      "\u001b[91m\u001b[1mTest Failed\u001b[22m\u001b[39m at \u001b[39m\u001b[1mIn[25]:5\u001b[22m\n",
      "  Expression: tenthbitto1(Int32(100)) ≡ Int32(4194404)\n",
      "   Evaluated: nothing ≡ 4194404\n"
     ]
    },
    {
     "ename": "LoadError",
     "evalue": "\u001b[91mThere was an error during testing\u001b[39m",
     "output_type": "error",
     "traceback": [
      "\u001b[91mThere was an error during testing\u001b[39m",
      "",
      "Stacktrace:",
      " [1] record(ts::Test.FallbackTestSet, t::Union{Test.Error, Test.Fail})",
      "   @ Test ~/Projects/julia-1.8/usr/share/julia/stdlib/v1.8/Test/src/Test.jl:943",
      " [2] do_test(result::Test.ExecutionResult, orig_expr::Any)",
      "   @ Test ~/Projects/julia-1.8/usr/share/julia/stdlib/v1.8/Test/src/Test.jl:656",
      " [3] top-level scope",
      "   @ ~/Projects/julia-1.8/usr/share/julia/stdlib/v1.8/Test/src/Test.jl:464"
     ]
    }
   ],
   "source": [
    "function tenthbitto1(x::Int32)\n",
    "    ## TODO: change the 10th bit of `x` to 1\n",
    "end\n",
    "\n",
    "@test tenthbitto1(Int32(100)) ≡ Int32(4194404)\n",
    "@test tenthbitto1(-Int32(100000010)) ≡ Int32(-95805706)"
   ]
  },
  {
   "cell_type": "markdown",
   "metadata": {},
   "source": [
    "## 4. Types\n",
    "\n",
    "Types allow for combining multiple numbers (or other types) to represent a more complicated\n",
    "object. That is, while a computer can only apply functions on $p$-bits at a time,\n",
    "these functions can be combined to perform more complicated operations on types\n",
    "that require more than $p$-bits. A simple example is a rational function.\n",
    "\n",
    "**Problem 2.1** Create a type `Rat` with two `Int` fields, `p` and `q`,\n",
    "representing a rational function including `+`, `*`, `-`, and `/`."
   ]
  },
  {
   "cell_type": "code",
   "execution_count": 26,
   "metadata": {
    "execution": {
     "iopub.execute_input": "2023-01-17T14:30:18.061000Z",
     "iopub.status.busy": "2023-01-17T14:30:18.061000Z",
     "iopub.status.idle": "2023-01-17T14:30:18.177000Z",
     "shell.execute_reply": "2023-01-17T14:30:18.177000Z"
    }
   },
   "outputs": [
    {
     "name": "stdout",
     "output_type": "stream",
     "text": [
      "\u001b[91m\u001b[1mError During Test\u001b[22m\u001b[39m at \u001b[39m\u001b[1mIn[26]:36\u001b[22m\n",
      "  Expression evaluated to non-Boolean\n",
      "  Expression: Rat(1, 2) == Rat(2, 4)\n",
      "       Value: nothing\n"
     ]
    },
    {
     "ename": "LoadError",
     "evalue": "\u001b[91mThere was an error during testing\u001b[39m",
     "output_type": "error",
     "traceback": [
      "\u001b[91mThere was an error during testing\u001b[39m",
      "",
      "Stacktrace:",
      " [1] record(ts::Test.FallbackTestSet, t::Union{Test.Error, Test.Fail})",
      "   @ Test ~/Projects/julia-1.8/usr/share/julia/stdlib/v1.8/Test/src/Test.jl:943",
      " [2] do_test(result::Test.ExecutionResult, orig_expr::Any)",
      "   @ Test ~/Projects/julia-1.8/usr/share/julia/stdlib/v1.8/Test/src/Test.jl:656",
      " [3] top-level scope",
      "   @ ~/Projects/julia-1.8/usr/share/julia/stdlib/v1.8/Test/src/Test.jl:464"
     ]
    }
   ],
   "source": [
    "# `struct` creates a new type called `Rat`\n",
    "# consisting of 128 bits, half encode `p`\n",
    "# and half encode `q`\n",
    "struct Rat\n",
    "    p::Int\n",
    "    q::Int\n",
    "end\n",
    "\n",
    "# A new instance of `Rat` is created via e.g. `Rat(1, 2)` represents 1/2\n",
    "# where the first argument specifies `p` and the second argument `q`.\n",
    "# The fields are accessed by `.`:\n",
    "\n",
    "x = Rat(1, 2)\n",
    "@test x.p == 1\n",
    "@test x.q == 2\n",
    "\n",
    "# We import `+`, `-`, `*`, `/` so we can \"overload\" these operations specifically\n",
    "# for `Rat`.\n",
    "import Base: +, -, *, /, ==\n",
    "\n",
    "# The ::Rat means the following version of `==` is only called if both arguments\n",
    "# are Rat\n",
    "function ==(x::Rat, y::Rat)\n",
    "    # TODO: implement equality, making sure to check the case where\n",
    "    # the numerator/denominator are possibly reducible\n",
    "    # Hint: `gcd` and `div` may be useful. Use `?` to find out what they do\n",
    "end\n",
    "\n",
    "# We can also support equality when `x isa Rat` and `y isa Integer`\n",
    "function ==(x::Rat, y::Integer)\n",
    "    # TODO: implement\n",
    "end\n",
    "\n",
    "# TODO: implement ==(x::Integer, y::Rat)\n",
    "\n",
    "@test Rat(1, 2) == Rat(2, 4)\n",
    "@test Rat(1, 2) ≠ Rat(1, 3)\n",
    "@test Rat(2,2) == 1\n",
    "@test 1 == Rat(2,2)\n",
    "\n",
    "## TODO: implement +, -, *, and /, \n",
    "\n",
    "@test Rat(1, 2) + Rat(1, 3) == Rat(5, 6)\n",
    "@test Rat(1, 3) - Rat(1, 2) == Rat(-1, 6)\n",
    "@test Rat(2, 3) * Rat(3, 4) == Rat(1, 2)\n",
    "@test Rat(2, 3) / Rat(3, 4) == Rat(8, 9)"
   ]
  },
  {
   "cell_type": "markdown",
   "metadata": {},
   "source": [
    "Templating is a way of letting fields take on different types.\n",
    "\n",
    "\n",
    "**Problem 2.2** Modify the above code so that `p` and `q` can be other types,\n",
    "for example, `Int16` or `BigInt`."
   ]
  },
  {
   "cell_type": "code",
   "execution_count": null,
   "metadata": {},
   "outputs": [],
   "source": []
  }
 ],
 "metadata": {
  "kernelspec": {
   "display_name": "Julia 1.8.3",
   "language": "julia",
   "name": "julia-1.8"
  },
  "language_info": {
   "file_extension": ".jl",
   "mimetype": "application/julia",
   "name": "julia",
   "version": "1.8.3"
  }
 },
 "nbformat": 4,
 "nbformat_minor": 2
}
