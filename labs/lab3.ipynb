{
 "cells": [
  {
   "cell_type": "markdown",
   "source": [
    "# MATH50003 (2022–23)\n",
    "# Lab 3: Divided differences and dual numbers\n",
    "\n",
    "This lab explores different discretisations for first and higher derivatives.\n",
    "In particular we consider the following approximations:\n",
    "*Forward differences*:\n",
    "$$\n",
    "f'(x) ≈ {f(x+h) - f(x) \\over h}\n",
    "$$\n",
    "*Central differences*:\n",
    "$$\n",
    "f'(x) ≈ {f(x+h) - f(x-h) \\over 2h}\n",
    "$$\n",
    "*Second order differences*:\n",
    "$$\n",
    "f''(x) ≈ {f(x+h) - 2f(x) + f(x-h) \\over h^2}\n",
    "$$\n",
    "We also add to the implementation of `Dual` to enable\n",
    "automatic differentiation with cos, sin, and division"
   ],
   "metadata": {}
  },
  {
   "outputs": [
    {
     "output_type": "execute_result",
     "data": {
      "text/plain": "nanabs (generic function with 1 method)"
     },
     "metadata": {},
     "execution_count": 1
    }
   ],
   "cell_type": "code",
   "source": [
    "using Plots, Test\n",
    "# helper function to avoid trying to take logs of 0 in plots\n",
    "# use in plots below\n",
    "nanabs(x) = iszero(x) ? NaN : abs(x)"
   ],
   "metadata": {},
   "execution_count": 1
  },
  {
   "cell_type": "markdown",
   "source": [
    "--------"
   ],
   "metadata": {}
  },
  {
   "cell_type": "markdown",
   "source": [
    "**Problem 1** Implement central differences\n",
    "for $f(x) = 1 + x + x^2$ and $g(x) = 1 + x/3 + x^2$, approximating the derivative at $x = 0$.\n",
    "Plot the absolute errors for `h = 2.0 .^ (0:-1:-60)` and `h = 10.0 .^ (0:-1:-16)`."
   ],
   "metadata": {}
  },
  {
   "cell_type": "markdown",
   "source": [
    "-----\n",
    "**Problem 2** Use forward differences, central differences, and second-order divided differences to approximate to 5-digits the first and second\n",
    "derivatives to the following functions\n",
    "at the point $x = 0.1$:\n",
    "$$\n",
    "\\exp(\\exp x \\cos x + \\sin x), ∏_{k=1}^{1000} \\left({x \\over k}-1\\right), \\hbox{ and } f^{\\rm s}_{1000}(x)\n",
    "$$\n",
    "where $f^{\\rm s}_n(x)$ corresponds to $n$-terms of the following continued fraction:\n",
    "$$\n",
    "1 + {x-1 \\over 2 + {x-1 \\over 2 + {x-1 \\over 2 + ⋱}}},\n",
    "$$\n",
    "e.g.:\n",
    "$$f^{\\rm s}_1(x) = 1 + {x-1 \\over 2}$$\n",
    "$$f^{\\rm s}_2(x) = 1 + {x-1 \\over 2 + {x -1 \\over 2}}$$\n",
    "$$f^{\\rm s}_3(x) = 1 + {x-1 \\over 2 + {x -1 \\over 2 + {x-1 \\over 2}}}$$"
   ],
   "metadata": {}
  },
  {
   "cell_type": "markdown",
   "source": [
    "----"
   ],
   "metadata": {}
  },
  {
   "cell_type": "markdown",
   "source": [
    "**Problem 3.1** Add support for `cos`, `sin`, and `/` to the type `Dual`:"
   ],
   "metadata": {}
  },
  {
   "outputs": [
    {
     "output_type": "execute_result",
     "data": {
      "text/plain": "\u001b[33m\u001b[1mTest Broken\u001b[22m\u001b[39m\n  Expression: (cos(sin(x + ϵ) / (x + ϵ))).b ≈ -((cos(x) / x - sin(x) / x ^ 2) * sin(sin(x) / x))"
     },
     "metadata": {},
     "execution_count": 2
    }
   ],
   "cell_type": "code",
   "source": [
    "# Dual(a,b) represents a + b*ϵ\n",
    "struct Dual{T}\n",
    "    a::T\n",
    "    b::T\n",
    "end\n",
    "\n",
    "# Dual(a) represents a + 0*ϵ\n",
    "Dual(a::Real) = Dual(a, zero(a)) # for real numbers we use a + 0ϵ\n",
    "\n",
    "# Allow for a + b*ϵ syntax\n",
    "const ϵ = Dual(0, 1)\n",
    "\n",
    "import Base: +, *, -, /, ^, zero, exp, cos, sin, one\n",
    "\n",
    "# support polynomials like 1 + x, x - 1, 2x or x*2 by reducing to Dual\n",
    "+(x::Real, y::Dual) = Dual(x) + y\n",
    "+(x::Dual, y::Real) = x + Dual(y)\n",
    "-(x::Real, y::Dual) = Dual(x) - y\n",
    "-(x::Dual, y::Real) = x - Dual(y)\n",
    "*(x::Real, y::Dual) = Dual(x) * y\n",
    "*(x::Dual, y::Real) = x * Dual(y)\n",
    "\n",
    "# support x/2 (but not yet division of duals)\n",
    "/(x::Dual, k::Real) = Dual(x.a/k, x.b/k)\n",
    "\n",
    "# a simple recursive function to support x^2, x^3, etc.\n",
    "function ^(x::Dual, k::Integer)\n",
    "    if k < 0\n",
    "        error(\"Not implemented\")\n",
    "    elseif k == 1\n",
    "        x\n",
    "    else\n",
    "        x^(k-1) * x\n",
    "    end\n",
    "end\n",
    "\n",
    "# support identity of type Dual\n",
    "one(x::Dual) = Dual(one(eltype(x.a)))\n",
    "\n",
    "# Algebraic operations for duals\n",
    "-(x::Dual) = Dual(-x.a, -x.b)\n",
    "+(x::Dual, y::Dual) = Dual(x.a + y.a, x.b + y.b)\n",
    "-(x::Dual, y::Dual) = Dual(x.a - y.a, x.b - y.b)\n",
    "*(x::Dual, y::Dual) = Dual(x.a*y.a, x.a*y.b + x.b*y.a)\n",
    "\n",
    "exp(x::Dual) = Dual(exp(x.a), exp(x.a) * x.b)\n",
    "\n",
    "function cos(x::Dual)\n",
    "    # TODO: implement cos for Duals\n",
    "\n",
    "end\n",
    "\n",
    "function sin(x::Dual)\n",
    "    # TODO: implement sin for Duals\n",
    "\n",
    "end\n",
    "\n",
    "function /(x::Dual, y::Dual)\n",
    "    # TODO: implement division for Duals\n",
    "\n",
    "end\n",
    "\n",
    "x = 0.1\n",
    "@test_broken cos(sin(x+ϵ)/(x+ϵ)).b ≈ -((cos(x)/x - sin(x)/x^2)sin(sin(x)/x))"
   ],
   "metadata": {},
   "execution_count": 2
  },
  {
   "cell_type": "markdown",
   "source": [
    "**Problem 3.2** Use dual numbers to compute the derivatives to\n",
    "$$\n",
    "\\exp(\\exp x \\cos x + \\sin x), ∏_{k=1}^{1000} \\left({x \\over k}-1\\right), \\hbox{ and } f^{\\rm s}_{1000}(x).\n",
    "$$\n",
    "Does your answer match (to 5 digits) Problem 2?"
   ],
   "metadata": {}
  },
  {
   "cell_type": "markdown",
   "source": [
    "---\n",
    "\n",
    "*This notebook was generated using [Literate.jl](https://github.com/fredrikekre/Literate.jl).*"
   ],
   "metadata": {}
  }
 ],
 "nbformat_minor": 3,
 "metadata": {
  "language_info": {
   "file_extension": ".jl",
   "mimetype": "application/julia",
   "name": "julia",
   "version": "1.8.3-pre.0"
  },
  "kernelspec": {
   "name": "julia-1.8",
   "display_name": "Julia 1.8.3-pre.0",
   "language": "julia"
  }
 },
 "nbformat": 4
}
