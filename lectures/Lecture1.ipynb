{
 "cells": [
  {
   "cell_type": "code",
   "execution_count": 53,
   "id": "0aaa5b8b",
   "metadata": {},
   "outputs": [
    {
     "data": {
      "text/plain": [
       "Int64"
      ]
     },
     "execution_count": 53,
     "metadata": {},
     "output_type": "execute_result"
    }
   ],
   "source": [
    "typeof(5) # a signed integer with 64-bits"
   ]
  },
  {
   "cell_type": "markdown",
   "id": "7ec53c66",
   "metadata": {},
   "source": [
    "## Unsigned"
   ]
  },
  {
   "cell_type": "code",
   "execution_count": 13,
   "id": "5f9a0cda",
   "metadata": {},
   "outputs": [
    {
     "data": {
      "text/plain": [
       "\"00100000\""
      ]
     },
     "execution_count": 13,
     "metadata": {},
     "output_type": "execute_result"
    }
   ],
   "source": [
    "x = UInt8(32) # an unsigned integer, printed in hex: base 16\n",
    "bitstring(x)"
   ]
  },
  {
   "cell_type": "code",
   "execution_count": 17,
   "id": "8b27c10d",
   "metadata": {},
   "outputs": [
    {
     "data": {
      "text/plain": [
       "0x51"
      ]
     },
     "execution_count": 17,
     "metadata": {},
     "output_type": "execute_result"
    }
   ],
   "source": [
    "0b1010001 # specify the 8 bits directly"
   ]
  },
  {
   "cell_type": "code",
   "execution_count": 18,
   "id": "065a5b69",
   "metadata": {},
   "outputs": [
    {
     "data": {
      "text/plain": [
       "11"
      ]
     },
     "execution_count": 18,
     "metadata": {},
     "output_type": "execute_result"
    }
   ],
   "source": [
    "5 + 6"
   ]
  },
  {
   "cell_type": "code",
   "execution_count": 19,
   "id": "e12aa0a0",
   "metadata": {},
   "outputs": [
    {
     "data": {
      "text/plain": [
       "0x0b"
      ]
     },
     "execution_count": 19,
     "metadata": {},
     "output_type": "execute_result"
    }
   ],
   "source": [
    "0x05 + 0x06"
   ]
  },
  {
   "cell_type": "code",
   "execution_count": 22,
   "id": "5c3d2dcd",
   "metadata": {},
   "outputs": [
    {
     "data": {
      "text/plain": [
       "\"00001011\""
      ]
     },
     "execution_count": 22,
     "metadata": {},
     "output_type": "execute_result"
    }
   ],
   "source": [
    "bitstring(0b101 + 0b110)"
   ]
  },
  {
   "cell_type": "code",
   "execution_count": 24,
   "id": "4cf9587e",
   "metadata": {},
   "outputs": [
    {
     "data": {
      "text/plain": [
       "255"
      ]
     },
     "execution_count": 24,
     "metadata": {},
     "output_type": "execute_result"
    }
   ],
   "source": [
    "Int(0b11111111) # 2^8 - 1"
   ]
  },
  {
   "cell_type": "code",
   "execution_count": 43,
   "id": "8efec4d4",
   "metadata": {},
   "outputs": [
    {
     "data": {
      "text/plain": [
       "0x03"
      ]
     },
     "execution_count": 43,
     "metadata": {},
     "output_type": "execute_result"
    }
   ],
   "source": [
    "0b11111111 + 0b100 # addition overflows"
   ]
  },
  {
   "cell_type": "code",
   "execution_count": 54,
   "id": "4ea2fa42",
   "metadata": {},
   "outputs": [
    {
     "data": {
      "text/plain": [
       "\"01101000\""
      ]
     },
     "execution_count": 54,
     "metadata": {},
     "output_type": "execute_result"
    }
   ],
   "source": [
    "bitstring(0b101101 * 0x8) # multiplication by 2 shifts bits"
   ]
  },
  {
   "cell_type": "markdown",
   "id": "d93440f4",
   "metadata": {},
   "source": [
    "## Signed"
   ]
  },
  {
   "cell_type": "code",
   "execution_count": 52,
   "id": "a4e9c14e",
   "metadata": {},
   "outputs": [
    {
     "data": {
      "text/plain": [
       "11"
      ]
     },
     "execution_count": 52,
     "metadata": {},
     "output_type": "execute_result"
    }
   ],
   "source": [
    "Int8(5) + Int8(6)"
   ]
  },
  {
   "cell_type": "code",
   "execution_count": 55,
   "id": "f0aac159",
   "metadata": {},
   "outputs": [
    {
     "data": {
      "text/plain": [
       "127"
      ]
     },
     "execution_count": 55,
     "metadata": {},
     "output_type": "execute_result"
    }
   ],
   "source": [
    "reinterpret(Int8, 0b01111111) # Can specify bits directly"
   ]
  },
  {
   "cell_type": "code",
   "execution_count": 42,
   "id": "118a743d",
   "metadata": {},
   "outputs": [
    {
     "data": {
      "text/plain": [
       "\"10000100\""
      ]
     },
     "execution_count": 42,
     "metadata": {},
     "output_type": "execute_result"
    }
   ],
   "source": [
    "bitstring(Int8(127) + Int8(5)) # Addition overflows giving negative number"
   ]
  },
  {
   "cell_type": "code",
   "execution_count": 56,
   "id": "56ca4d41",
   "metadata": {},
   "outputs": [
    {
     "data": {
      "text/plain": [
       "0"
      ]
     },
     "execution_count": 56,
     "metadata": {},
     "output_type": "execute_result"
    }
   ],
   "source": [
    "2^64"
   ]
  },
  {
   "cell_type": "code",
   "execution_count": 57,
   "id": "3640154c",
   "metadata": {},
   "outputs": [
    {
     "data": {
      "text/plain": [
       "1.8446744073709552e19"
      ]
     },
     "execution_count": 57,
     "metadata": {},
     "output_type": "execute_result"
    }
   ],
   "source": [
    "2.0^64"
   ]
  },
  {
   "cell_type": "code",
   "execution_count": 58,
   "id": "68c92f49",
   "metadata": {},
   "outputs": [
    {
     "data": {
      "text/plain": [
       "Float64"
      ]
     },
     "execution_count": 58,
     "metadata": {},
     "output_type": "execute_result"
    }
   ],
   "source": [
    "typeof(2.0)"
   ]
  },
  {
   "cell_type": "code",
   "execution_count": null,
   "id": "77e25675",
   "metadata": {},
   "outputs": [],
   "source": []
  }
 ],
 "metadata": {
  "kernelspec": {
   "display_name": "Julia 1.8.5",
   "language": "julia",
   "name": "julia-1.8"
  },
  "language_info": {
   "file_extension": ".jl",
   "mimetype": "application/julia",
   "name": "julia",
   "version": "1.8.3"
  }
 },
 "nbformat": 4,
 "nbformat_minor": 5
}
