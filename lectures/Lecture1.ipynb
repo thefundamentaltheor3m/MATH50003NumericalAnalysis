{
 "cells": [
  {
   "cell_type": "markdown",
   "id": "682d2c3a",
   "metadata": {},
   "source": [
    "# Lecture 1: Integers\n",
    "\n",
    "## Unsigned"
   ]
  },
  {
   "cell_type": "code",
   "execution_count": 4,
   "id": "50be43c0",
   "metadata": {},
   "outputs": [
    {
     "data": {
      "text/plain": [
       "\"0000000000000000000000000000000000000000000000000000000000000101\""
      ]
     },
     "execution_count": 4,
     "metadata": {},
     "output_type": "execute_result"
    }
   ],
   "source": [
    "typeof(5) # every number has a type. This is a _signed_ 64-bit number\n",
    "bitstring(5) # bitstring returns a string. That is, a sequence of characters"
   ]
  },
  {
   "cell_type": "code",
   "execution_count": 1,
   "id": "448dc20e",
   "metadata": {},
   "outputs": [
    {
     "data": {
      "text/plain": [
       "0x10"
      ]
     },
     "execution_count": 1,
     "metadata": {},
     "output_type": "execute_result"
    }
   ],
   "source": [
    "x = UInt8(16) # an unsigned 8-bit integer, output in base-16 which has 2 digits between 0-9, a–f"
   ]
  },
  {
   "cell_type": "code",
   "execution_count": 2,
   "id": "44ce4885",
   "metadata": {},
   "outputs": [
    {
     "data": {
      "text/plain": [
       "\"00010000\""
      ]
     },
     "execution_count": 2,
     "metadata": {},
     "output_type": "execute_result"
    }
   ],
   "source": [
    "bitstring(x) # Here are the corresponding bits"
   ]
  },
  {
   "cell_type": "code",
   "execution_count": 55,
   "id": "570de3da",
   "metadata": {},
   "outputs": [
    {
     "data": {
      "text/plain": [
       "UInt16"
      ]
     },
     "execution_count": 55,
     "metadata": {},
     "output_type": "execute_result"
    }
   ],
   "source": [
    "typeof(0b110010001) # 0b is used as a prefix to specify bits and creates an unsigned integer"
   ]
  },
  {
   "cell_type": "code",
   "execution_count": 28,
   "id": "4c41d4fc",
   "metadata": {},
   "outputs": [
    {
     "data": {
      "text/plain": [
       "0x00"
      ]
     },
     "execution_count": 28,
     "metadata": {},
     "output_type": "execute_result"
    }
   ],
   "source": [
    "0b11111111 + 0b1 # Arithmetic overflows"
   ]
  },
  {
   "cell_type": "code",
   "execution_count": 31,
   "id": "c174f6f2",
   "metadata": {},
   "outputs": [
    {
     "data": {
      "text/plain": [
       "240"
      ]
     },
     "execution_count": 31,
     "metadata": {},
     "output_type": "execute_result"
    }
   ],
   "source": [
    "Int(0xf0) # We can write in hex and convert to `Int`"
   ]
  },
  {
   "cell_type": "markdown",
   "id": "e8f6d9b1",
   "metadata": {},
   "source": [
    "## Signed"
   ]
  },
  {
   "cell_type": "code",
   "execution_count": null,
   "id": "fb4650f6",
   "metadata": {},
   "outputs": [],
   "source": [
    "# unsigned is {0,2^p-1}\n",
    "# signed is {-2^(p-1),…-1,0,1,…2^(p-1)-1}"
   ]
  },
  {
   "cell_type": "code",
   "execution_count": 70,
   "id": "d33c511f",
   "metadata": {},
   "outputs": [
    {
     "data": {
      "text/plain": [
       "1"
      ]
     },
     "execution_count": 70,
     "metadata": {},
     "output_type": "execute_result"
    }
   ],
   "source": [
    "Int8(1) # Converts a 64-bit integer (`1`) to an 8-bit integer representing 1"
   ]
  },
  {
   "cell_type": "code",
   "execution_count": 68,
   "id": "7d840e1a",
   "metadata": {},
   "outputs": [
    {
     "data": {
      "text/plain": [
       "\"11111111\""
      ]
     },
     "execution_count": 68,
     "metadata": {},
     "output_type": "execute_result"
    }
   ],
   "source": [
    "bitstring(-Int8(1)) # returns (11111111)_2 = same bits as 255 because -1 mod 256 == 255"
   ]
  },
  {
   "cell_type": "code",
   "execution_count": 39,
   "id": "32560b27",
   "metadata": {},
   "outputs": [
    {
     "data": {
      "text/plain": [
       "\"0000000000000000000000000000000000000000000000000000000000010100\""
      ]
     },
     "execution_count": 39,
     "metadata": {},
     "output_type": "execute_result"
    }
   ],
   "source": [
    "bitstring(2 * 10) # multiplying by 2 shifts the bits"
   ]
  },
  {
   "cell_type": "code",
   "execution_count": 41,
   "id": "6a0b6daa",
   "metadata": {},
   "outputs": [
    {
     "data": {
      "text/plain": [
       "0"
      ]
     },
     "execution_count": 41,
     "metadata": {},
     "output_type": "execute_result"
    }
   ],
   "source": [
    "2^64 # ^ means power, 0 due to overflow"
   ]
  },
  {
   "cell_type": "code",
   "execution_count": 44,
   "id": "a7452f8b",
   "metadata": {},
   "outputs": [
    {
     "data": {
      "text/plain": [
       "2"
      ]
     },
     "execution_count": 44,
     "metadata": {},
     "output_type": "execute_result"
    }
   ],
   "source": [
    "big(2) # isa BigInt, uses variable number of bits"
   ]
  },
  {
   "cell_type": "code",
   "execution_count": 48,
   "id": "5b5ed0b3",
   "metadata": {
    "scrolled": true
   },
   "outputs": [
    {
     "ename": "LoadError",
     "evalue": "OverflowError: exponent 4562440617622195218641171605700291324893228507248559930579192517899275167208677386505912811317371399778642309573594407310688704721375437998252661319722214188251994674360264950082874192246603776 is too large and computation will overflow",
     "output_type": "error",
     "traceback": [
      "OverflowError: exponent 4562440617622195218641171605700291324893228507248559930579192517899275167208677386505912811317371399778642309573594407310688704721375437998252661319722214188251994674360264950082874192246603776 is too large and computation will overflow",
      "",
      "Stacktrace:",
      " [1] (::Base.GMP.var\"#throw1#3\")(y::BigInt)",
      "   @ Base.GMP ./gmp.jl:606",
      " [2] bigint_pow(x::BigInt, y::BigInt)",
      "   @ Base.GMP ./gmp.jl:621",
      " [3] ^(x::BigInt, y::BigInt)",
      "   @ Base.GMP ./gmp.jl:626",
      " [4] top-level scope",
      "   @ In[48]:2"
     ]
    }
   ],
   "source": [
    "x = big(2)^640 # uses more and more memory to store more and more bits\n",
    "x^x"
   ]
  }
 ],
 "metadata": {
  "kernelspec": {
   "display_name": "Julia 1.8.5",
   "language": "julia",
   "name": "julia-1.8"
  },
  "language_info": {
   "file_extension": ".jl",
   "mimetype": "application/julia",
   "name": "julia",
   "version": "1.8.3"
  }
 },
 "nbformat": 4,
 "nbformat_minor": 5
}
