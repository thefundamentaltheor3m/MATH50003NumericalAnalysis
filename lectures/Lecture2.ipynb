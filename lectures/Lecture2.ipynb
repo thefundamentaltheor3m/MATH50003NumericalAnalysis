{
 "cells": [
  {
   "cell_type": "markdown",
   "id": "06520476",
   "metadata": {},
   "source": [
    "# Lecture 2: Floating point"
   ]
  },
  {
   "cell_type": "code",
   "execution_count": 3,
   "id": "03e68372",
   "metadata": {},
   "outputs": [],
   "source": [
    "# using loads other \"Packages\", sometimes external\n",
    "using ColorBitstring"
   ]
  },
  {
   "cell_type": "code",
   "execution_count": 1,
   "id": "3bcdf95c",
   "metadata": {},
   "outputs": [
    {
     "data": {
      "text/plain": [
       "Float64"
      ]
     },
     "execution_count": 1,
     "metadata": {},
     "output_type": "execute_result"
    }
   ],
   "source": [
    "typeof(1.3) # Creates a `Float64` approximating the real number `1.3`"
   ]
  },
  {
   "cell_type": "code",
   "execution_count": 4,
   "id": "e6413bbe",
   "metadata": {},
   "outputs": [
    {
     "name": "stdout",
     "output_type": "stream",
     "text": [
      "\u001b[31m0\u001b[0m\u001b[32m01111111111\u001b[0m\u001b[34m0100110011001100110011001100110011001100110011001101\u001b[0m"
     ]
    }
   ],
   "source": [
    "printbits(1.3) # here are the bits. red is sign bit, green are exponent bits and blue are sign. bits"
   ]
  },
  {
   "cell_type": "code",
   "execution_count": 6,
   "id": "c4d78db0",
   "metadata": {},
   "outputs": [
    {
     "name": "stdout",
     "output_type": "stream",
     "text": [
      "\u001b[31m0\u001b[0m\u001b[32m01101\u001b[0m\u001b[34m0101010101\u001b[0m"
     ]
    }
   ],
   "source": [
    "x = Float16(1/3) # this makes a Float64, then rounds to Float16\n",
    "printbits(x)"
   ]
  },
  {
   "cell_type": "code",
   "execution_count": 7,
   "id": "e5a38f54",
   "metadata": {},
   "outputs": [
    {
     "data": {
      "text/plain": [
       "Float16(0.3333)"
      ]
     },
     "execution_count": 7,
     "metadata": {},
     "output_type": "execute_result"
    }
   ],
   "source": [
    "Float16(1)/3 # divides a Float16 by an integer"
   ]
  },
  {
   "cell_type": "code",
   "execution_count": 10,
   "id": "b50a4e1a",
   "metadata": {},
   "outputs": [
    {
     "data": {
      "text/plain": [
       "Float16(0.3333)"
      ]
     },
     "execution_count": 10,
     "metadata": {},
     "output_type": "execute_result"
    }
   ],
   "source": [
    "bts = 0b0011010101010101 # UInt16\n",
    "reinterpret(Float16, bts) # creates a Float16 with same bits as bts"
   ]
  },
  {
   "cell_type": "code",
   "execution_count": 20,
   "id": "f542fb32",
   "metadata": {},
   "outputs": [
    {
     "data": {
      "text/plain": [
       "Float16(0.3333)"
      ]
     },
     "execution_count": 20,
     "metadata": {},
     "output_type": "execute_result"
    }
   ],
   "source": [
    "# Can also use formula to reconstruct the Float:\n",
    "σ, Q, S = 15,5,10\n",
    "s = 1\n",
    "q = Int(0b01101)\n",
    "sig = 2.0 ^ (-S) * (0b10101010101)\n",
    "Float16(2.0^(q-σ) * sig)"
   ]
  },
  {
   "cell_type": "markdown",
   "id": "6ad40e08",
   "metadata": {},
   "source": [
    "## Special numbers"
   ]
  },
  {
   "cell_type": "code",
   "execution_count": 6,
   "id": "b0dc0c8e",
   "metadata": {},
   "outputs": [
    {
     "data": {
      "text/plain": [
       "(Inf, -Inf)"
      ]
     },
     "execution_count": 6,
     "metadata": {},
     "output_type": "execute_result"
    }
   ],
   "source": [
    "1/0.0, -1/0.0 # some operations give us Inf or -Inf"
   ]
  },
  {
   "cell_type": "code",
   "execution_count": 22,
   "id": "079e7890",
   "metadata": {},
   "outputs": [
    {
     "name": "stdout",
     "output_type": "stream",
     "text": [
      "\u001b[31m0\u001b[0m\u001b[32m11111111111\u001b[0m\u001b[34m0000000000000000000000000000000000000000000000000000\u001b[0m"
     ]
    }
   ],
   "source": [
    "printbits(1/0.0) # If all the exponent bits are 1 and the significand bits then we get either +∞"
   ]
  },
  {
   "cell_type": "code",
   "execution_count": 4,
   "id": "5baa62ed",
   "metadata": {},
   "outputs": [
    {
     "name": "stdout",
     "output_type": "stream",
     "text": [
      "\u001b[31m1\u001b[0m\u001b[32m11111111111\u001b[0m\u001b[34m0000000000000000000000000000000000000000000000000000\u001b[0m"
     ]
    }
   ],
   "source": [
    "printbits(-Inf) # or -∞, depending on the sign bit"
   ]
  },
  {
   "cell_type": "code",
   "execution_count": 7,
   "id": "3be3bc8b",
   "metadata": {},
   "outputs": [
    {
     "data": {
      "text/plain": [
       "NaN"
      ]
     },
     "execution_count": 7,
     "metadata": {},
     "output_type": "execute_result"
    }
   ],
   "source": [
    "0.0/0.0 # Other errors give us a NaN"
   ]
  },
  {
   "cell_type": "code",
   "execution_count": 8,
   "id": "e1685487",
   "metadata": {},
   "outputs": [
    {
     "name": "stdout",
     "output_type": "stream",
     "text": [
      "\u001b[31m1\u001b[0m\u001b[32m11111111111\u001b[0m\u001b[34m1000000000000000000000000000000000000000000000000000\u001b[0m"
     ]
    }
   ],
   "source": [
    "printbits(0.0/0.0) # Here the exponent bits are 1 and at least one significand bit is 1"
   ]
  },
  {
   "cell_type": "code",
   "execution_count": 10,
   "id": "229ac9b7",
   "metadata": {},
   "outputs": [
    {
     "data": {
      "text/plain": [
       "NaN"
      ]
     },
     "execution_count": 10,
     "metadata": {},
     "output_type": "execute_result"
    }
   ],
   "source": [
    "x = 0b1111111111111000000000000000000000000000000000000001000001000001\n",
    "reinterpret(Float64, x) # many (2*(2^S-1)) different bit sequences give us NaNs, all treated equivalent"
   ]
  },
  {
   "cell_type": "code",
   "execution_count": 11,
   "id": "83fd0625",
   "metadata": {},
   "outputs": [
    {
     "name": "stdout",
     "output_type": "stream",
     "text": [
      "\u001b[31m1\u001b[0m\u001b[32m00000000000\u001b[0m\u001b[34m0000000000000000000000000000000000000000000000000000\u001b[0m"
     ]
    }
   ],
   "source": [
    "# There is both a +0.0 and a -0.0\n",
    "printbits(-0.0)"
   ]
  }
 ],
 "metadata": {
  "kernelspec": {
   "display_name": "Julia 1.8.3-pre",
   "language": "julia",
   "name": "julia-1.8"
  },
  "language_info": {
   "file_extension": ".jl",
   "mimetype": "application/julia",
   "name": "julia",
   "version": "1.8.3"
  }
 },
 "nbformat": 4,
 "nbformat_minor": 5
}
