{
 "cells": [
  {
   "cell_type": "markdown",
   "id": "25c6d335",
   "metadata": {},
   "source": [
    "# My Notes"
   ]
  },
  {
   "cell_type": "code",
   "execution_count": 1,
   "id": "350b9798",
   "metadata": {},
   "outputs": [
    {
     "data": {
      "text/plain": [
       "0x0f"
      ]
     },
     "execution_count": 1,
     "metadata": {},
     "output_type": "execute_result"
    }
   ],
   "source": [
    "0b1111"
   ]
  },
  {
   "cell_type": "code",
   "execution_count": 2,
   "id": "c2dd25c7",
   "metadata": {},
   "outputs": [
    {
     "ename": "LoadError",
     "evalue": "UndefVarError: b001 not defined",
     "output_type": "error",
     "traceback": [
      "UndefVarError: b001 not defined",
      "",
      "Stacktrace:",
      " [1] top-level scope",
      "   @ In[2]:1"
     ]
    }
   ],
   "source": [
    "Int(1b001)"
   ]
  },
  {
   "cell_type": "code",
   "execution_count": 3,
   "id": "79bcc4ff",
   "metadata": {},
   "outputs": [
    {
     "data": {
      "text/plain": [
       "1"
      ]
     },
     "execution_count": 3,
     "metadata": {},
     "output_type": "execute_result"
    }
   ],
   "source": [
    "Int(0b001)"
   ]
  },
  {
   "cell_type": "code",
   "execution_count": 4,
   "id": "64990a11",
   "metadata": {},
   "outputs": [
    {
     "data": {
      "text/plain": [
       "1111111"
      ]
     },
     "execution_count": 4,
     "metadata": {},
     "output_type": "execute_result"
    }
   ],
   "source": [
    "Int(1111111)"
   ]
  },
  {
   "cell_type": "code",
   "execution_count": 5,
   "id": "9e26f390",
   "metadata": {},
   "outputs": [
    {
     "data": {
      "text/plain": [
       "127"
      ]
     },
     "execution_count": 5,
     "metadata": {},
     "output_type": "execute_result"
    }
   ],
   "source": [
    "Int(0b1111111)"
   ]
  },
  {
   "cell_type": "code",
   "execution_count": 6,
   "id": "7486cc19",
   "metadata": {},
   "outputs": [
    {
     "data": {
      "text/plain": [
       "255"
      ]
     },
     "execution_count": 6,
     "metadata": {},
     "output_type": "execute_result"
    }
   ],
   "source": [
    "Int(0b11111111)"
   ]
  },
  {
   "cell_type": "code",
   "execution_count": 7,
   "id": "c28d6469",
   "metadata": {},
   "outputs": [
    {
     "data": {
      "text/plain": [
       "32"
      ]
     },
     "execution_count": 7,
     "metadata": {},
     "output_type": "execute_result"
    }
   ],
   "source": [
    "big(2)^5"
   ]
  },
  {
   "cell_type": "code",
   "execution_count": null,
   "id": "d252f28b",
   "metadata": {},
   "outputs": [],
   "source": []
  }
 ],
 "metadata": {
  "kernelspec": {
   "display_name": "Julia 1.8.5",
   "language": "julia",
   "name": "julia-1.8"
  },
  "language_info": {
   "file_extension": ".jl",
   "mimetype": "application/julia",
   "name": "julia",
   "version": "1.8.5"
  }
 },
 "nbformat": 4,
 "nbformat_minor": 5
}
