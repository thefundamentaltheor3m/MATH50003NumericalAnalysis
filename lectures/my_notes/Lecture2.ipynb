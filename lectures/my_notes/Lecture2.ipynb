{
 "cells": [
  {
   "attachments": {},
   "cell_type": "markdown",
   "metadata": {},
   "source": [
    "# Signed integers in $p$-bit binary registers\n",
    "\n",
    "Esentially, these range from $-2^p$ to $2^{p-1}$, with the representation of any $n \\in \\mathbb{N}$ being the *unique* integer $k$ from $-2^{p}$ to $2^{p-1}$ in whose residue class modulo $2^p$ $n$ lies. You then represent this $k$ by its binary representation."
   ]
  },
  {
   "cell_type": "markdown",
   "metadata": {},
   "source": []
  },
  {
   "cell_type": "code",
   "execution_count": null,
   "metadata": {},
   "outputs": [],
   "source": []
  }
 ],
 "metadata": {
  "kernelspec": {
   "display_name": "Julia 1.8.5",
   "language": "julia",
   "name": "julia-1.8"
  },
  "language_info": {
   "name": "julia"
  },
  "orig_nbformat": 4
 },
 "nbformat": 4,
 "nbformat_minor": 2
}
