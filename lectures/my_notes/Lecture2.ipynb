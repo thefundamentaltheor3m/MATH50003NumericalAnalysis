{
 "cells": [
  {
   "attachments": {},
   "cell_type": "markdown",
   "metadata": {},
   "source": [
    "# Signed integers in $p$-bit binary registers\n",
    "\n",
    "Esentially, these range from $-2^p$ to $2^{p-1}$, with the representation of any $n \\in \\mathbb{N}$ being the *unique* integer $k$ from $-2^{p}$ to $2^{p-1}$ in whose residue class modulo $2^p$ $n$ lies. You then represent this $k$ by its binary representation."
   ]
  },
  {
   "attachments": {},
   "cell_type": "markdown",
   "metadata": {},
   "source": [
    "# Scientific Notation\n",
    "\n",
    "Just like we'd write $$ x = \\bar{x} \\pm \\Delta x \\cdot {10}^{\\lambda}$$ in regular scientific notation (where $x$ is the quantity being estimated, $\\bar{x}$ is the estimate and $\\Delta x \\cdot 10^{\\lambda}$ is an error factor), in binary, we'd write $$x = \\bar{x} \\pm \\Delta x \\cdot 2^\\lambda$$\n",
    "\n",
    "### The question is: how would you go from one to another?\n",
    "\n",
    "For example:\n",
    "$$\n",
    "\\begin{align*}\n",
    "\\pm \\frac{1}{3} &= \\pm 0.33333... \\\\\n",
    "                &= \\pm \\sum_{k=1}^{\\infty} \\frac{3}{10^k} \\\\\n",
    "                &= \\pm \\left(0.010101...\\right)_2 \\\\\n",
    "                &= \\pm \\sum_{k=1}^{\\infty} \\frac{1}{2^{2k}}\n",
    "\\end{align*}\n",
    "$$\n",
    "\n"
   ]
  },
  {
   "attachments": {},
   "cell_type": "markdown",
   "metadata": {},
   "source": [
    "# Floating Points"
   ]
  },
  {
   "cell_type": "code",
   "execution_count": null,
   "metadata": {},
   "outputs": [],
   "source": [
    "σ, Q, s = 15, 5, 10\n",
    "s = 1\n",
    "q = Int(0b01101)\n"
   ]
  }
 ],
 "metadata": {
  "kernelspec": {
   "display_name": "Julia 1.8.5",
   "language": "julia",
   "name": "julia-1.8"
  },
  "language_info": {
   "name": "julia"
  },
  "orig_nbformat": 4
 },
 "nbformat": 4,
 "nbformat_minor": 2
}
