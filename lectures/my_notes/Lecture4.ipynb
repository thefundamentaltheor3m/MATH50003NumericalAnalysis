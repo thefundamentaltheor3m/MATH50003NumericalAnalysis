{
 "cells": [
  {
   "attachments": {},
   "cell_type": "markdown",
   "metadata": {},
   "source": [
    "# Lecture 4"
   ]
  },
  {
   "attachments": {},
   "cell_type": "markdown",
   "metadata": {},
   "source": [
    "In order to be able to do analysis in floating point arithmetic systems, we need a way to bound errors *in a precise manner*."
   ]
  },
  {
   "attachments": {},
   "cell_type": "markdown",
   "metadata": {},
   "source": [
    "An **absolute error** is going to be some $\\delta_a$ s.t. $$\\tilde{x} = x + \\delta_a$$ (where $\\tilde{x}$ is the true value of the quantity being measured, and $x$ is the measurement). A **relative error** is some $\\delta_r$ s.t. $$\\tilde{x} = x\\left(1 + \\delta_r\\right)$$"
   ]
  },
  {
   "attachments": {},
   "cell_type": "markdown",
   "metadata": {},
   "source": [
    "## Machine Epsilon\n",
    "\n",
    "Machine Epsilon is denoted $\\epsilon_{m, s}$ and is defined as $$\\epsilon_{m, s} := 2^{-s}$$"
   ]
  },
  {
   "cell_type": "markdown",
   "metadata": {},
   "source": []
  }
 ],
 "metadata": {
  "kernelspec": {
   "display_name": "Julia 1.8.5",
   "language": "julia",
   "name": "julia-1.8"
  },
  "language_info": {
   "name": "julia"
  },
  "orig_nbformat": 4
 },
 "nbformat": 4,
 "nbformat_minor": 2
}
