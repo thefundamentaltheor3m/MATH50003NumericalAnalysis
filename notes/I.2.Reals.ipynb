{
 "cells": [
  {
   "cell_type": "markdown",
   "metadata": {},
   "source": [
    "# I.2 Reals\n",
    "\n",
    "\n",
    "Reference: [Overton](https://cs.nyu.edu/~overton/book/)\n",
    "\n",
    "In this chapter, we introduce  the \n",
    "[IEEE Standard for Floating-Point Arithmetic](https://en.wikipedia.org/wiki/IEEE_754).\n",
    "There are multiplies ways of representing real numbers on a computer, as well as \n",
    "the precise behaviour of operations such as addition, multiplication, etc.: one can use\n",
    "\n",
    "1. [Fixed-point arithmetic](https://en.wikipedia.org/wiki/Fixed-point_arithmetic): essentially representing a real number as integer where a decimal point is inserted at a fixed point. This turns out to be impractical in most applications, e.g., due to loss of relative accuracy for small numbers.\n",
    "2. [Floating-point arithmetic](https://en.wikipedia.org/wiki/Floating-point_arithmetic): essentially scientific notation where an exponent is stored alongside a fixed number of digits. This is what is used in practice.\n",
    "3. [Level-index arithmetic](https://en.wikipedia.org/wiki/Symmetric_level-index_arithmetic): stores numbers as iterated exponents. This is the most beautiful mathematically but unfortunately is not as useful for most applications and is not implemented in hardware.\n",
    "\n",
    "Before the 1980s each processor had potentially a different representation for \n",
    "floating-point numbers, as well as different behaviour for operations. \n",
    "IEEE introduced in 1985 was a means to standardise this across\n",
    "processors so that algorithms would produce consistent and reliable results.\n",
    "\n",
    "This chapter may seem very low level for a mathematics course but there are\n",
    "two important reasons to understand the behaviour of floating-point numbers in details:\n",
    "1. Floating-point arithmetic is very precisely defined, and can even be used in rigorous computations as we shall see in the labs. But it is not exact and its important to understand how errors in computations can accumulate.\n",
    "2. Failure to understand floating-point arithmetic can cause catastrophic issues in practice, with the extreme example being the  [explosion of the Ariane 5 rocket](https://youtu.be/N6PWATvLQCY?t=86).\n",
    "\n",
    "\n",
    "In this chapter we discuss the following:\n",
    "\n",
    "1. Real numbers in binary: we discuss how binary digits can be used to represent real numbers.\n",
    "2. Floating-point numbers: Real numbers are stored on a computer with a finite number of bits.  There are three types of floating-point numbers: _normal numbers_, _subnormal numbers_, and _special numbers_.\n",
    "3. Arithmetic: Arithmetic operations in floating-point are exact up to rounding, and how the rounding mode can be set. This allows us to bound  errors computations.\n",
    "4. High-precision floating-point numbers: As an advanced (non-examinable) topic, we discuss how the precision of floating-point arithmetic can be increased arbitrary using `BigFloat`. \n",
    "\n",
    "Before we begin, we load two external packages. SetRounding.jl allows us \n",
    "to set the rounding mode of floating-point arithmetic. ColorBitstring.jl\n",
    "  implements functions `printbits` (and `printlnbits`)\n",
    "which print the bits (and with a newline) of floating-point numbers in colour."
   ]
  },
  {
   "cell_type": "code",
   "execution_count": 1,
   "metadata": {
    "execution": {
     "iopub.execute_input": "2023-01-24T07:50:04.483288Z",
     "iopub.status.busy": "2023-01-24T07:50:03.928570Z",
     "iopub.status.idle": "2023-01-24T07:50:04.709835Z",
     "shell.execute_reply": "2023-01-24T07:50:04.709275Z"
    }
   },
   "outputs": [],
   "source": [
    "using SetRounding, ColorBitstring"
   ]
  },
  {
   "cell_type": "markdown",
   "metadata": {},
   "source": [
    "## 1.  Real numbers in binary\n",
    "\n",
    "Reals can also be presented in binary format, that is, a sequence of `0`s and `1`s alongside a decimal point:\n",
    "\n",
    "**Definition 1 (real binary format)**\n",
    "For $b_1,b_2,…\\in \\{0,1\\}$, Denote a non-negative real number in _binary format_ by:\n",
    "$$\n",
    "(B_p …B_0.b_1b_2b_3…_2 := (B_p …B_0)_2 +  \\sum_{k=1}^∞ {b_k \\over 2^k}.\n",
    "$$\n",
    "\n",
    "**Example 1 (rational in binary)**\n",
    "Consider the number `1/3`.  In decimal recall that:\n",
    "$$\n",
    "1/3 = 0.3333…=  \\sum_{k=1}^∞ {3 \\over 10^k}\n",
    "$$\n",
    "We will see that in binary\n",
    "$$\n",
    "1/3 = (0.010101…_2 = \\sum_{k=1}^∞ {1 \\over 2^{2k}}\n",
    "$$\n",
    "Both results can be proven using the geometric series:\n",
    "$$\n",
    "\\sum_{k=0}^∞ z^k = {1 \\over 1 - z}\n",
    "$$\n",
    "provided $|z| < 1$. That is, with $z = {1 \\over 4}$ we verify the binary expansion:\n",
    "$$\n",
    "\\sum_{k=1}^∞ {1 \\over 4^k} = {1 \\over 1 - 1/4} - 1 = {1 \\over 3}\n",
    "$$\n",
    "A similar argument with $z = 1/10$ shows the decimal case.\n",
    "\n",
    "\n",
    "## 2. Floating-point numbers\n",
    "\n",
    "Floating-point numbers are a subset of real numbers that are representable using\n",
    "a fixed number of bits.\n",
    "\n",
    "**Definition 2 (floating-point numbers)**\n",
    "Given integers $σ$ (the \"exponential shift\") $Q$ (the number of exponent bits) and \n",
    "$S$ (the precision), define the set of\n",
    "_Floating-point numbers_ by dividing into _normal_, _sub-normal_, and _special number_ subsets:\n",
    "$$\n",
    "F_{σ,Q,S} := F^{\\rm normal}_{σ,Q,S} \\cup F^{\\rm sub}_{σ,Q,S} \\cup F^{\\rm special}.\n",
    "$$\n",
    "The _normal numbers_\n",
    "$F^{\\rm normal}_{σ,Q,S} ⊂ ℝ$ are\n",
    "$$\n",
    "F^{\\rm normal}_{σ,Q,S} := \\{± 2^{q-σ} × (1.b_1b_2b_3…b_S)_2 : 1 ≤ q < 2^Q-1 \\}.\n",
    "$$\n",
    "The _sub-normal numbers_ $F^{\\rm sub}_{σ,Q,S} ⊂ ℝ$ are\n",
    "$$\n",
    "F^{\\rm sub}_{σ,Q,S} := \\{± 2^{1-σ} × (0.b_1b_2b_3…b_S)_2\\}.\n",
    "$$\n",
    "The _special numbers_ $F^{\\rm special} ⊄ ℝ$ are \n",
    "$$\n",
    "F^{\\rm special} :=  \\{∞, -∞, {\\rm NaN}\\}\n",
    "$$\n",
    "where ${\\rm NaN}$ is a special symbol representing \"not a number\", essentially an error flag.\n",
    "\n",
    "Note this set of real numbers has no nice _algebraic structure_: it is not closed under addition, subtraction, etc.\n",
    "On the other hand, we can control errors effectively hence it is extremely useful for analysis.\n",
    "\n",
    "Floating-point numbers are stored in $1 + Q + S$ total number of bits, in the format\n",
    "$$\n",
    "sq_{Q-1}…q_0 b_1 …b_S\n",
    "$$\n",
    "The first bit ($s$) is the <span style=\"color:red\">sign bit</span>: 0 means positive and 1 means\n",
    "negative. The bits $q_{Q-1}…q_0$ are the <span style=\"color:green\">exponent bits</span>:\n",
    "they are the binary digits of the unsigned integer $q$: \n",
    "$$\n",
    "q = (q_{Q-1}…q_0)_2.\n",
    "$$\n",
    "Finally, the bits $b_1…b_S$ are the <span style=\"color:blue\">significand bits</span>.\n",
    "If $1 ≤ q < 2^Q-1$ then the bits represent the normal number\n",
    "$$\n",
    "x = ± 2^{q-σ} × (1.b_1b_2b_3…b_S)_2.\n",
    "$$\n",
    "If $q = 0$ (i.e. all bits are 0) then the bits represent the sub-normal number\n",
    "$$\n",
    "x = ± 2^{1-σ} × (0.b_1b_2b_3…b_S)_2.\n",
    "$$\n",
    "If $q = 2^Q-1$  (i.e. all bits are 1) then the bits represent a special number, discussed\n",
    "later.\n",
    "\n",
    "\n",
    "### IEEE floating-point numbers\n",
    "\n",
    "**Definition 3 (IEEE floating-point numbers)** \n",
    "IEEE has 3 standard floating-point formats: 16-bit (half precision), 32-bit (single precision) and\n",
    "64-bit (double precision) defined by:\n",
    "$$\n",
    "\\begin{align*}\n",
    "F_{16} &:= F_{15,5,10} \\\\\n",
    "F_{32} &:= F_{127,8,23} \\\\\n",
    "F_{64} &:= F_{1023,11,52}\n",
    "\\end{align*}\n",
    "$$\n",
    "\n",
    "In Julia these correspond to 3 different floating-point types:\n",
    "\n",
    "1.  `Float64` is a type representing double precision ($F_{64}$).\n",
    "We can create a `Float64` by including a \n",
    "decimal point when writing the number: \n",
    "`1.0` is a `Float64`. Alternatively, one can use scientific notation: `1e0`. \n",
    "`Float64` is the default format for \n",
    "scientific computing (on the _Floating-Point Unit_, FPU).  \n",
    "2. `Float32` is a type representing single precision ($F_{32}$).  We can create a `Float32` by including a \n",
    "`f0` when writing the number: \n",
    "`1f0` is a `Float32` (this is in fact scientific notation so `1f1 ≡ 10f0`). \n",
    "`Float32` is generally the default format for graphics (on the _Graphics Processing Unit_, GPU), \n",
    "as the difference between 32 bits and 64 bits is indistinguishable to the eye in visualisation,\n",
    "and more data can be fit into a GPU's limited memory.\n",
    "3.  `Float16` is a type representing half-precision ($F_{16}$).\n",
    "It is important in machine learning where one wants to maximise the amount of data\n",
    "and high accuracy is not necessarily helpful. \n",
    "\n",
    "\n",
    "**Example 2 (rational in `Float32`)** How is the number $1/3$ stored in `Float32`?\n",
    "Recall that\n",
    "$$\n",
    "1/3 = (0.010101…_2 = 2^{-2} (1.0101…_2 = 2^{125-127} (1.0101…_2\n",
    "$$\n",
    "and since $\n",
    "125 = (1111101)_2\n",
    "$  the <span style=\"color:green\">exponent bits</span> are <span style=\"color:green\">01111101</span>.\n",
    ". \n",
    "For the significand we round the last bit to the nearest element of $F_{32}$, (this is explained in detail in\n",
    "the section on rounding), so we have\n",
    "$$\n",
    "1.010101010101010101010101…\\approx 1.01010101010101010101011 \\in F_{32} \n",
    "$$\n",
    "and the <span style=\"color:blue\">significand bits</span> are <span style=\"color:blue\">01010101010101010101011</span>.\n",
    "Thus the `Float32` bits for $1/3$ are:"
   ]
  },
  {
   "cell_type": "code",
   "execution_count": 2,
   "metadata": {
    "execution": {
     "iopub.execute_input": "2023-01-24T07:50:04.712032Z",
     "iopub.status.busy": "2023-01-24T07:50:04.711429Z",
     "iopub.status.idle": "2023-01-24T07:50:04.824680Z",
     "shell.execute_reply": "2023-01-24T07:50:04.824065Z"
    }
   },
   "outputs": [
    {
     "name": "stdout",
     "output_type": "stream",
     "text": [
      "\u001b[31m0\u001b[0m\u001b[32m01111101\u001b[0m\u001b[34m01010101010101010101011\u001b[0m"
     ]
    }
   ],
   "source": [
    "printbits(1f0/3)"
   ]
  },
  {
   "cell_type": "markdown",
   "metadata": {},
   "source": [
    "For sub-normal numbers, the simplest example is zero, which has $q=0$ and all significand bits zero:"
   ]
  },
  {
   "cell_type": "code",
   "execution_count": 3,
   "metadata": {
    "execution": {
     "iopub.execute_input": "2023-01-24T07:50:04.826953Z",
     "iopub.status.busy": "2023-01-24T07:50:04.826366Z",
     "iopub.status.idle": "2023-01-24T07:50:04.920216Z",
     "shell.execute_reply": "2023-01-24T07:50:04.919780Z"
    }
   },
   "outputs": [
    {
     "name": "stdout",
     "output_type": "stream",
     "text": [
      "\u001b[31m0\u001b[0m\u001b[32m00000000000\u001b[0m\u001b[34m0000000000000000000000000000000000000000000000000000\u001b[0m"
     ]
    }
   ],
   "source": [
    "printbits(0.0)"
   ]
  },
  {
   "cell_type": "markdown",
   "metadata": {},
   "source": [
    "Unlike integers, we also have a negative zero:"
   ]
  },
  {
   "cell_type": "code",
   "execution_count": 4,
   "metadata": {
    "execution": {
     "iopub.execute_input": "2023-01-24T07:50:04.922976Z",
     "iopub.status.busy": "2023-01-24T07:50:04.922004Z",
     "iopub.status.idle": "2023-01-24T07:50:04.924694Z",
     "shell.execute_reply": "2023-01-24T07:50:04.923476Z"
    }
   },
   "outputs": [
    {
     "name": "stdout",
     "output_type": "stream",
     "text": [
      "\u001b[31m1\u001b[0m\u001b[32m00000000000\u001b[0m\u001b[34m0000000000000000000000000000000000000000000000000000\u001b[0m"
     ]
    }
   ],
   "source": [
    "printbits(-0.0)"
   ]
  },
  {
   "cell_type": "markdown",
   "metadata": {},
   "source": [
    "This is treated as identical to `0.0` (except for degenerate operations as explained in special numbers).\n",
    "\n",
    "\n",
    "\n",
    "### Special normal numbers\n",
    "\n",
    "When dealing with normal numbers there are some important constants that we will use\n",
    "to bound errors.\n",
    "\n",
    "**Definition 4 (machine epsilon/smallest positive normal number/largest normal number)**\n",
    "_Machine epsilon_ is denoted\n",
    "$$\n",
    "ϵ_{{\\rm m},S} := 2^{-S}.\n",
    "$$\n",
    "When $S$ is implied by context we use the notation $ϵ_{\\rm m}$.\n",
    "The _smallest positive normal number_ is $q = 1$ and $b_k$ all zero:\n",
    "$$\n",
    "\\min |F_{σ,Q,S}^{\\rm normal}| = 2^{1-σ}\n",
    "$$ \n",
    "where $|A| := \\{|x| : x \\in A \\}$.\n",
    "The _largest (positive) normal number_ is \n",
    "$$\n",
    "\\max F_{σ,Q,S}^{\\rm normal} = 2^{2^Q-2-σ} (1.11…)_2 = 2^{2^Q-2-σ} (2-ϵ_{\\rm m})\n",
    "$$\n",
    "\n",
    "\n",
    "We confirm the simple bit representations:"
   ]
  },
  {
   "cell_type": "code",
   "execution_count": 5,
   "metadata": {
    "execution": {
     "iopub.execute_input": "2023-01-24T07:50:04.926760Z",
     "iopub.status.busy": "2023-01-24T07:50:04.926161Z",
     "iopub.status.idle": "2023-01-24T07:50:04.964383Z",
     "shell.execute_reply": "2023-01-24T07:50:04.963951Z"
    }
   },
   "outputs": [
    {
     "name": "stdout",
     "output_type": "stream",
     "text": [
      "\u001b[31m0\u001b[0m\u001b[32m00000001\u001b[0m\u001b[34m00000000000000000000000\u001b[0m\n",
      "\u001b[31m0\u001b[0m\u001b[32m11111110\u001b[0m\u001b[34m11111111111111111111111\u001b[0m\n"
     ]
    }
   ],
   "source": [
    "σ,Q,S = 127,8,23 # Float32\n",
    "εₘ = 2.0^(-S)\n",
    "printlnbits(Float32(2.0^(1-σ))) # smallest positive normal Float32\n",
    "printlnbits(Float32(2.0^(2^Q-2-σ) * (2-εₘ))) # largest normal Float32"
   ]
  },
  {
   "cell_type": "markdown",
   "metadata": {},
   "source": [
    "For a given floating-point type, we can find these constants using the following functions:"
   ]
  },
  {
   "cell_type": "code",
   "execution_count": 6,
   "metadata": {
    "execution": {
     "iopub.execute_input": "2023-01-24T07:50:04.966537Z",
     "iopub.status.busy": "2023-01-24T07:50:04.965980Z",
     "iopub.status.idle": "2023-01-24T07:50:05.520766Z",
     "shell.execute_reply": "2023-01-24T07:50:05.520337Z"
    }
   },
   "outputs": [
    {
     "data": {
      "text/plain": [
       "(1.1920929f-7, 1.1754944f-38, 3.4028235f38)"
      ]
     },
     "execution_count": 6,
     "metadata": {},
     "output_type": "execute_result"
    }
   ],
   "source": [
    "eps(Float32), floatmin(Float32), floatmax(Float32)"
   ]
  },
  {
   "cell_type": "markdown",
   "metadata": {},
   "source": [
    "**Example 3 (creating a sub-normal number)** If we divide the smallest normal number by two, we get a subnormal number:"
   ]
  },
  {
   "cell_type": "code",
   "execution_count": 7,
   "metadata": {
    "execution": {
     "iopub.execute_input": "2023-01-24T07:50:05.523293Z",
     "iopub.status.busy": "2023-01-24T07:50:05.522401Z",
     "iopub.status.idle": "2023-01-24T07:50:05.525317Z",
     "shell.execute_reply": "2023-01-24T07:50:05.524876Z"
    }
   },
   "outputs": [
    {
     "name": "stdout",
     "output_type": "stream",
     "text": [
      "\u001b[31m0\u001b[0m\u001b[32m00000001\u001b[0m\u001b[34m00000000000000000000000\u001b[0m\n",
      "\u001b[31m0\u001b[0m\u001b[32m00000000\u001b[0m\u001b[34m10000000000000000000000\u001b[0m"
     ]
    }
   ],
   "source": [
    "mn = floatmin(Float32) # smallest normal Float32\n",
    "printlnbits(mn)\n",
    "printbits(mn/2)"
   ]
  },
  {
   "cell_type": "markdown",
   "metadata": {},
   "source": [
    "Can you explain the bits?\n",
    "\n",
    "\n",
    "\n",
    "\n",
    "### Special numbers\n",
    "\n",
    "The special numbers extend the real line by adding $±∞$ but also a notion of \"not-a-number\" ${\\rm NaN}$.\n",
    "Whenever the bits of $q$ of a floating-point number are all 1 then they represent an element of $F^{\\rm special}$.\n",
    "If all $b_k=0$, then the number represents either $±∞$, called `Inf` and `-Inf` for 64-bit floating-point numbers (or `Inf16`, `Inf32`\n",
    "for 16-bit and 32-bit, respectively):"
   ]
  },
  {
   "cell_type": "code",
   "execution_count": 8,
   "metadata": {
    "execution": {
     "iopub.execute_input": "2023-01-24T07:50:05.527402Z",
     "iopub.status.busy": "2023-01-24T07:50:05.526844Z",
     "iopub.status.idle": "2023-01-24T07:50:05.611257Z",
     "shell.execute_reply": "2023-01-24T07:50:05.610815Z"
    }
   },
   "outputs": [
    {
     "name": "stdout",
     "output_type": "stream",
     "text": [
      "\u001b[31m0\u001b[0m\u001b[32m11111\u001b[0m\u001b[34m0000000000\u001b[0m\n",
      "\u001b[31m1\u001b[0m\u001b[32m11111\u001b[0m\u001b[34m0000000000\u001b[0m"
     ]
    }
   ],
   "source": [
    "printlnbits(Inf16)\n",
    "printbits(-Inf16)"
   ]
  },
  {
   "cell_type": "markdown",
   "metadata": {},
   "source": [
    "All other special floating-point numbers represent ${\\rm NaN}$. One particular representation of ${\\rm NaN}$ \n",
    "is denoted by `NaN` for 64-bit floating-point numbers (or `NaN16`, `NaN32` for 16-bit and 32-bit, respectively):"
   ]
  },
  {
   "cell_type": "code",
   "execution_count": 9,
   "metadata": {
    "execution": {
     "iopub.execute_input": "2023-01-24T07:50:05.613815Z",
     "iopub.status.busy": "2023-01-24T07:50:05.612900Z",
     "iopub.status.idle": "2023-01-24T07:50:05.615490Z",
     "shell.execute_reply": "2023-01-24T07:50:05.614334Z"
    }
   },
   "outputs": [
    {
     "name": "stdout",
     "output_type": "stream",
     "text": [
      "\u001b[31m0\u001b[0m\u001b[32m11111\u001b[0m\u001b[34m1000000000\u001b[0m"
     ]
    }
   ],
   "source": [
    "printbits(NaN16)"
   ]
  },
  {
   "cell_type": "markdown",
   "metadata": {},
   "source": [
    "These are needed for undefined algebraic operations such as:"
   ]
  },
  {
   "cell_type": "code",
   "execution_count": 10,
   "metadata": {
    "execution": {
     "iopub.execute_input": "2023-01-24T07:50:05.617538Z",
     "iopub.status.busy": "2023-01-24T07:50:05.616988Z",
     "iopub.status.idle": "2023-01-24T07:50:05.831182Z",
     "shell.execute_reply": "2023-01-24T07:50:05.830749Z"
    }
   },
   "outputs": [
    {
     "data": {
      "text/plain": [
       "NaN"
      ]
     },
     "execution_count": 10,
     "metadata": {},
     "output_type": "execute_result"
    }
   ],
   "source": [
    "0/0"
   ]
  },
  {
   "cell_type": "markdown",
   "metadata": {},
   "source": [
    "Essentially it is a CPU's way of indicating an error has occurred.\n",
    "\n",
    "\n",
    "**Example 4 (many `NaN`s)** What happens if we change some other $b_k$ to be nonzero?\n",
    "We can create bits as a string and see:"
   ]
  },
  {
   "cell_type": "code",
   "execution_count": 11,
   "metadata": {
    "execution": {
     "iopub.execute_input": "2023-01-24T07:50:05.833355Z",
     "iopub.status.busy": "2023-01-24T07:50:05.832796Z",
     "iopub.status.idle": "2023-01-24T07:50:06.053993Z",
     "shell.execute_reply": "2023-01-24T07:50:06.053558Z"
    }
   },
   "outputs": [
    {
     "data": {
      "text/plain": [
       "NaN16"
      ]
     },
     "execution_count": 11,
     "metadata": {},
     "output_type": "execute_result"
    }
   ],
   "source": [
    "i = 0b0111110000010001 # an UInt16\n",
    "reinterpret(Float16, i)"
   ]
  },
  {
   "cell_type": "markdown",
   "metadata": {},
   "source": [
    "Thus, there are more than one `NaN`s on a computer.  \n",
    "\n",
    "\n",
    "## 3. Arithmetic\n",
    "\n",
    "\n",
    "Arithmetic operations on floating-point numbers are  _exact up to rounding_.\n",
    "There are three basic rounding strategies: round up/down/nearest.\n",
    "Mathematically we introduce a function to capture the notion of rounding:\n",
    "\n",
    "**Definition 6 (rounding)** ${\\rm fl}^{\\rm up}_{σ,Q,S} : \\mathbb R \\rightarrow F_{σ,Q,S}$ denotes \n",
    "the function that rounds a real number up to the nearest floating-point number that is greater or equal.\n",
    "${\\rm fl}^{\\rm down}_{σ,Q,S} : \\mathbb R \\rightarrow F_{σ,Q,S}$ denotes \n",
    "the function that rounds a real number down to the nearest floating-point number that is greater or equal.\n",
    "${\\rm fl}^{\\rm nearest}_{σ,Q,S} : \\mathbb R \\rightarrow F_{σ,Q,S}$ denotes \n",
    "the function that rounds a real number to the nearest floating-point number. In case of a tie,\n",
    "it returns the floating-point number whose least significant bit is equal to zero.\n",
    "We use the notation ${\\rm fl}$ when $σ,Q,S$ and the rounding mode are implied by context,\n",
    "with ${\\rm fl}^{\\rm nearest}$ being the default rounding mode.\n",
    "\n",
    "\n",
    "\n",
    "In Julia, the rounding mode is specified by tags `RoundUp`, `RoundDown`, and\n",
    "`RoundNearest`. (There are also more exotic rounding strategies `RoundToZero`, `RoundNearestTiesAway` and\n",
    "`RoundNearestTiesUp` that we won't use.)\n",
    "\n",
    "\n",
    "\n",
    "\n",
    "Let's try rounding a `Float64` to a `Float32`."
   ]
  },
  {
   "cell_type": "code",
   "execution_count": 12,
   "metadata": {
    "execution": {
     "iopub.execute_input": "2023-01-24T07:50:06.056112Z",
     "iopub.status.busy": "2023-01-24T07:50:06.055551Z",
     "iopub.status.idle": "2023-01-24T07:50:06.061538Z",
     "shell.execute_reply": "2023-01-24T07:50:06.061048Z"
    }
   },
   "outputs": [
    {
     "name": "stdout",
     "output_type": "stream",
     "text": [
      "\u001b[31m0\u001b[0m\u001b[32m01111111101\u001b[0m\u001b[34m0101010101010101010101010101010101010101010101010101\u001b[0m\n",
      "\u001b[31m0\u001b[0m\u001b[32m01111101\u001b[0m\u001b[34m01010101010101010101011\u001b[0m"
     ]
    }
   ],
   "source": [
    "printlnbits(1/3)  # 64 bits\n",
    "printbits(Float32(1/3))  # round to nearest 32-bit"
   ]
  },
  {
   "cell_type": "markdown",
   "metadata": {},
   "source": [
    "The default rounding mode can be changed:"
   ]
  },
  {
   "cell_type": "code",
   "execution_count": 13,
   "metadata": {
    "execution": {
     "iopub.execute_input": "2023-01-24T07:50:06.063803Z",
     "iopub.status.busy": "2023-01-24T07:50:06.063137Z",
     "iopub.status.idle": "2023-01-24T07:50:06.080548Z",
     "shell.execute_reply": "2023-01-24T07:50:06.080113Z"
    }
   },
   "outputs": [
    {
     "name": "stdout",
     "output_type": "stream",
     "text": [
      "\u001b[31m0\u001b[0m\u001b[32m01111101\u001b[0m\u001b[34m01010101010101010101010\u001b[0m"
     ]
    }
   ],
   "source": [
    "printbits(Float32(1/3,RoundDown) )"
   ]
  },
  {
   "cell_type": "markdown",
   "metadata": {},
   "source": [
    "Or alternatively we can change the rounding mode for a chunk of code\n",
    "using `setrounding`. The following computes upper and lower bounds for `/`:"
   ]
  },
  {
   "cell_type": "code",
   "execution_count": 14,
   "metadata": {
    "execution": {
     "iopub.execute_input": "2023-01-24T07:50:06.082650Z",
     "iopub.status.busy": "2023-01-24T07:50:06.082100Z",
     "iopub.status.idle": "2023-01-24T07:50:06.384319Z",
     "shell.execute_reply": "2023-01-24T07:50:06.383885Z"
    }
   },
   "outputs": [
    {
     "data": {
      "text/plain": [
       "(0.3333333f0, 0.33333334f0)"
      ]
     },
     "execution_count": 14,
     "metadata": {},
     "output_type": "execute_result"
    }
   ],
   "source": [
    "x = 1f0\n",
    "setrounding(Float32, RoundDown) do\n",
    "    x/3\n",
    "end,\n",
    "setrounding(Float32, RoundUp) do\n",
    "    x/3\n",
    "end"
   ]
  },
  {
   "cell_type": "markdown",
   "metadata": {},
   "source": [
    "**WARNING (compiled constants, non-examinable)**: Why did we first create a variable `x` instead of typing `1f0/3`?\n",
    "This is due to a very subtle issue where the compiler is _too clever for it's own good_: \n",
    "it recognises `1f0/3` can be computed at compile time, but failed to recognise the rounding mode\n",
    "was changed. \n",
    "\n",
    "In IEEE arithmetic, the arithmetic operations `+`, `-`, `*`, `/` are defined by the property\n",
    "that they are exact up to rounding.  Mathematically we denote these operations as \n",
    "$⊕, ⊖, ⊗, ⊘ : F ⊗ F → F$ as follows:\n",
    "$$\n",
    "\\begin{align*}\n",
    "x ⊕ y &:= {\\rm fl}(x+y) \\\\\n",
    "x ⊖ y &:= {\\rm fl}(x - y) \\\\\n",
    "x ⊗ y &:= {\\rm fl}(x * y) \\\\\n",
    "x ⊘ y &:= {\\rm fl}(x / y)\n",
    "\\end{align*}\n",
    "$$\n",
    "Note also that  `^` and `sqrt` are similarly exact up to rounding.\n",
    "Also, note that when we convert a Julia command with constants specified by decimal expansions\n",
    "we first round the constants to floats, e.g., `1.1 + 0.1` is actually reduced to\n",
    "$$\n",
    "{\\rm fl}(1.1) ⊕ {\\rm fl}(0.1)\n",
    "$$\n",
    "This includes the case where the constants are integers (which are normally exactly floats\n",
    "but may be rounded if extremely large).\n",
    "\n",
    "**Example 5 (decimal is not exact)** The Julia command `1.1+0.1` gives a different result than `1.2`:"
   ]
  },
  {
   "cell_type": "code",
   "execution_count": 15,
   "metadata": {
    "execution": {
     "iopub.execute_input": "2023-01-24T07:50:06.386688Z",
     "iopub.status.busy": "2023-01-24T07:50:06.385907Z",
     "iopub.status.idle": "2023-01-24T07:50:06.388568Z",
     "shell.execute_reply": "2023-01-24T07:50:06.388145Z"
    }
   },
   "outputs": [
    {
     "data": {
      "text/plain": [
       "2.220446049250313e-16"
      ]
     },
     "execution_count": 15,
     "metadata": {},
     "output_type": "execute_result"
    }
   ],
   "source": [
    "x = 1.1\n",
    "y = 0.1\n",
    "x + y - 1.2 # Not Zero?!?"
   ]
  },
  {
   "cell_type": "markdown",
   "metadata": {},
   "source": [
    "This is because ${\\rm fl}(1.1) ≠ 1+1/10$ and ${\\rm fl}(1.1) ≠ 1/10$ since their\n",
    "expansion in _binary_ is not finite, but rather:\n",
    "$$\n",
    "\\begin{align*}\n",
    "{\\rm fl}(1.1) &= (1.0001100110011001100110011001100110011001100110011010)_2 \\\\\n",
    "{\\rm fl}(0.1) &= 2^{-4} * (1.1001100110011001100110011001100110011001100110011010)_2 \\\\\n",
    "              &= (0.00011001100110011001100110011001100110011001100110011010)_2\n",
    "\\end{align*}\n",
    "$$\n",
    "Thus when we add them we get\n",
    "$$\n",
    "{\\rm fl}(1.1) + {\\rm fl}(1.1) = (1.0011001100110011001100110011001100110011001100110011\\red{1010})_2\n",
    "$$\n",
    "where the red digits indicate those beyond the 52 representable in $F_{54}$. In this case we round up and\n",
    "get\n",
    "$$\n",
    "{\\rm fl}(1.1) ⊕ {\\rm fl}(1.1) = (1.0011001100110011001100110011001100110011001100110100)_2\n",
    "$$\n",
    "On the other hand,\n",
    "$$\n",
    "{\\rm fl}(1.2) = (1.011001100110011001100110011001100110011001100110011)_2\n",
    "$$\n",
    "which differs by 1 bit.\n",
    "\n",
    "**WARNING (non-associative)** These operations are not associative! E.g. $(x ⊕ y) ⊕ z$ is not necessarily equal to $x ⊕ (y ⊕ z)$. \n",
    "Commutativity is preserved, at least.\n",
    "Here is a surprising example of non-associativity:"
   ]
  },
  {
   "cell_type": "code",
   "execution_count": 16,
   "metadata": {
    "execution": {
     "iopub.execute_input": "2023-01-24T07:50:06.391205Z",
     "iopub.status.busy": "2023-01-24T07:50:06.390301Z",
     "iopub.status.idle": "2023-01-24T07:50:06.754718Z",
     "shell.execute_reply": "2023-01-24T07:50:06.754181Z"
    }
   },
   "outputs": [
    {
     "data": {
      "text/plain": [
       "(3.5999999999999996, 3.6)"
      ]
     },
     "execution_count": 16,
     "metadata": {},
     "output_type": "execute_result"
    }
   ],
   "source": [
    "(1.1 + 1.2) + 1.3, 1.1 + (1.2 + 1.3)"
   ]
  },
  {
   "cell_type": "markdown",
   "metadata": {},
   "source": [
    "Can you explain this in terms of bits?\n",
    "\n",
    "\n",
    "### Bounding errors in floating point arithmetic\n",
    "\n",
    "Before we dicuss bounds on errors, we need to talk about the two notions of errors:\n",
    "\n",
    "**Definition 7 (absolute/relative error)** If $\\tilde x = x + δ_{\\rm a} = x (1 + δ_{\\rm r})$ then \n",
    "$|δ_{\\rm a}|$ is called the _absolute error_ and $|δ_{\\rm r}|$ is called the \n",
    "_relative error_ in approximating $x$ by $\\tilde x$.\n",
    "\n",
    "We can bound the error of basic arithmetic operations in terms of machine epsilon, provided\n",
    "a real number is close to a normal number:\n",
    "\n",
    "**Definition 8 (normalised range)** The _normalised range_ ${\\cal N}_{σ,Q,S} ⊂ ℝ$\n",
    "is the subset of real numbers that lies\n",
    "between the smallest and largest normal floating-point number:\n",
    "$$\n",
    "{\\cal N}_{σ,Q,S} := \\{x : \\min |F_{σ,Q,S}^{\\rm normal}| ≤ |x| ≤ \\max F_{σ,Q,S}^{\\rm normal} \\}\n",
    "$$\n",
    "When $σ,Q,S$ are implied by context we use the notation ${\\cal N}$.\n",
    "\n",
    "We can use machine epsilon to determine bounds on rounding:\n",
    "\n",
    "**Proposition 1 (round bound)**\n",
    "If $x \\in {\\cal N}$ then \n",
    "$$\n",
    "{\\rm fl}^{\\rm mode}(x) = x (1 + \\delta_x^{\\rm mode})\n",
    "$$\n",
    "where the _relative error_ is\n",
    "$$\n",
    "\\begin{align*}\n",
    "|\\delta_x^{\\rm nearest}| &≤ {ϵ_{\\rm m} \\over 2} \\\\\n",
    "|\\delta_x^{\\rm up/down}| &< {ϵ_{\\rm m}}.\n",
    "\\end{align*}\n",
    "$$\n",
    "\n",
    "\n",
    "This immediately implies relative error bounds on all IEEE arithmetic operations, e.g., \n",
    "if $x+y \\in {\\cal N}$ then\n",
    "we have\n",
    "$$\n",
    "x ⊕ y = (x+y) (1 + \\delta_1)\n",
    "$$\n",
    "where (assuming the default nearest rounding)\n",
    "$\n",
    "|\\delta_1| ≤ {ϵ_{\\rm m} \\over 2}.\n",
    "$\n",
    "\n",
    "**Example 6 (bounding a simple computation)** We show how to bound the error in computing\n",
    "$$\n",
    "(1.1 + 1.2) + 1.3\n",
    "$$\n",
    "using floating-point arithmetic. First note that `1.1` on a computer is in\n",
    "fact ${\\rm fl}(1.1)$. Thus this computation becomes\n",
    "$$\n",
    "({\\rm fl}(1.1) ⊕ {\\rm fl}(1.2)) ⊕ {\\rm fl}(1.3)\n",
    "$$\n",
    "First we find\n",
    "$$\n",
    "({\\rm fl}(1.1) ⊕ {\\rm fl}(1.2)) = (1.1(1 + δ_1) + 1.2 (1+δ_2))(1 + δ_3)\n",
    " = 2.3 + \\underbrace{1.1 δ_1 + 1.2 δ_2 + 2.3 δ_3 + 1.1 δ_1 δ_3 + 1.2 δ_2 δ_3}_{δ_4}.\n",
    " $$\n",
    "In this module we will never ask for precise bounds: that is, we will always want bounds of the form\n",
    "$C ϵ_{\\rm m}$ for a specified constant $C$ but the choice of $C$ need not be sharp. Thus we will\n",
    "tend to round up to integers. Further, while $δ_1 δ_3$ and $δ_2 δ_3$ are absolutely tiny \n",
    "we will tend to bound them rather naïvely by $|ϵ_{\\rm m}/2|$. Using these rules we have the bound\n",
    "$$\n",
    "|δ_4| ≤ (1+1+2+1+1) ϵ_{\\rm m} = 6ϵ_{\\rm m}\n",
    "$$\n",
    "Thus the computation becomes\n",
    "$$\n",
    "((2.3 + δ_4) + 1.3 (1 + δ_5)) (1 + δ_6) = 3.6 + \\underbrace{δ_4 + 1.3 δ_5 + 3.6 δ_6 + δ_4 δ_6  + 1.3 δ_5 δ_6}_{δ_7}\n",
    "$$\n",
    "where the _absolute error_ is\n",
    "$$\n",
    "|δ_7| ≤ (6 + 1 + 2 + 1 + 1) ϵ_{\\rm m} = 11 ϵ_{\\rm m} \n",
    "$$\n",
    "Indeed, this bound is bigger than the observed error:"
   ]
  },
  {
   "cell_type": "code",
   "execution_count": 17,
   "metadata": {
    "execution": {
     "iopub.execute_input": "2023-01-24T07:50:06.757249Z",
     "iopub.status.busy": "2023-01-24T07:50:06.756481Z",
     "iopub.status.idle": "2023-01-24T07:50:06.766925Z",
     "shell.execute_reply": "2023-01-24T07:50:06.766462Z"
    }
   },
   "outputs": [
    {
     "data": {
      "text/plain": [
       "(4.440892098500626e-16, 2.4424906541753444e-15)"
      ]
     },
     "execution_count": 17,
     "metadata": {},
     "output_type": "execute_result"
    }
   ],
   "source": [
    "abs(3.6 - (1.1+1.2+1.3)), 11eps()"
   ]
  },
  {
   "cell_type": "markdown",
   "metadata": {},
   "source": [
    "### Arithmetic and special numbers\n",
    "\n",
    "Arithmetic works differently on `Inf` and `NaN` and for undefined operations. \n",
    "In particular we have:"
   ]
  },
  {
   "cell_type": "code",
   "execution_count": 18,
   "metadata": {
    "execution": {
     "iopub.execute_input": "2023-01-24T07:50:06.769245Z",
     "iopub.status.busy": "2023-01-24T07:50:06.768555Z",
     "iopub.status.idle": "2023-01-24T07:50:07.032623Z",
     "shell.execute_reply": "2023-01-24T07:50:07.031963Z"
    }
   },
   "outputs": [
    {
     "data": {
      "text/plain": [
       "true"
      ]
     },
     "execution_count": 18,
     "metadata": {},
     "output_type": "execute_result"
    }
   ],
   "source": [
    "1/0.0        #  Inf\n",
    "1/(-0.0)     # -Inf\n",
    "0.0/0.0      #  NaN\n",
    "  \n",
    "Inf*0        #  NaN\n",
    "Inf+5        #  Inf\n",
    "(-1)*Inf     # -Inf\n",
    "1/Inf        #  0.0\n",
    "1/(-Inf)     # -0.0\n",
    "Inf - Inf    #  NaN\n",
    "Inf ==  Inf  #  true\n",
    "Inf == -Inf  #  false\n",
    "\n",
    "NaN*0        #  NaN\n",
    "NaN+5        #  NaN\n",
    "1/NaN        #  NaN\n",
    "NaN == NaN   #  false\n",
    "NaN != NaN   #  true"
   ]
  },
  {
   "cell_type": "markdown",
   "metadata": {},
   "source": [
    "### Special functions (non-examinable)\n",
    "\n",
    "Other special functions like `cos`, `sin`, `exp`, etc. are _not_ part of the IEEE standard.\n",
    "Instead, they are implemented by composing the basic arithmetic operations, which accumulate\n",
    "errors. Fortunately many are  designed to have _relative accuracy_, that is, `s = sin(x)` \n",
    "(that is, the Julia implementation of $\\sin x$) satisfies\n",
    "$$\n",
    "{\\tt s} = (\\sin x) ( 1 + \\delta)\n",
    "$$\n",
    "where $|\\delta| < cϵ_{\\rm m}$ for a reasonably small $c > 0$,\n",
    "_provided_ that $x \\in {\\rm F}^{\\rm normal}$.\n",
    "Note these special functions are written in (advanced) Julia code, for example, \n",
    "[sin](https://github.com/JuliaLang/julia/blob/d08b05df6f01cf4ec6e4c28ad94cedda76cc62e8/base/special/trig.jl#L76).\n",
    "\n",
    "\n",
    "**WARNING (sin(fl(x)) is not always close to sin(x))** This is possibly a misleading statement\n",
    "when one thinks of $x$ as a real number. Consider $x = \\pi$ so that $\\sin x = 0$.\n",
    "However, as ${\\rm fl}(\\pi) ≠ \\pi$. Thus we only have relative accuracy compared\n",
    "to the floating point approximation:"
   ]
  },
  {
   "cell_type": "code",
   "execution_count": 19,
   "metadata": {
    "execution": {
     "iopub.execute_input": "2023-01-24T07:50:07.035857Z",
     "iopub.status.busy": "2023-01-24T07:50:07.034761Z",
     "iopub.status.idle": "2023-01-24T07:50:07.550672Z",
     "shell.execute_reply": "2023-01-24T07:50:07.550232Z"
    }
   },
   "outputs": [
    {
     "data": {
      "text/plain": [
       "(1.2246467991473532e-16, 2.994769809718339860754263822337778811430799841054596882794158676581342467643355e-33)"
      ]
     },
     "execution_count": 19,
     "metadata": {},
     "output_type": "execute_result"
    }
   ],
   "source": [
    "π₆₄ = Float64(π)\n",
    "πᵦ = big(π₆₄) # Convert 64-bit approximation of π to higher precision. Note its the same number.\n",
    "abs(sin(π₆₄)), abs(sin(π₆₄) - sin(πᵦ)) # only has relative accuracy compared to sin(πᵦ), not sin(π)"
   ]
  },
  {
   "cell_type": "markdown",
   "metadata": {},
   "source": [
    "Another issue is when $x$ is very large:"
   ]
  },
  {
   "cell_type": "code",
   "execution_count": 20,
   "metadata": {
    "execution": {
     "iopub.execute_input": "2023-01-24T07:50:07.553085Z",
     "iopub.status.busy": "2023-01-24T07:50:07.552516Z",
     "iopub.status.idle": "2023-01-24T07:50:07.572044Z",
     "shell.execute_reply": "2023-01-24T07:50:07.571609Z"
    }
   },
   "outputs": [
    {
     "data": {
      "text/plain": [
       "true"
      ]
     },
     "execution_count": 20,
     "metadata": {},
     "output_type": "execute_result"
    }
   ],
   "source": [
    "ε = eps() # machine epsilon, 2^(-52)\n",
    "x = 2*10.0^100\n",
    "abs(sin(x) - sin(big(x)))  ≤  abs(sin(big(x))) * ε"
   ]
  },
  {
   "cell_type": "markdown",
   "metadata": {},
   "source": [
    "But if we instead compute `10^100` using `BigFloat` we get a completely different\n",
    "answer that even has the wrong sign!"
   ]
  },
  {
   "cell_type": "code",
   "execution_count": 21,
   "metadata": {
    "execution": {
     "iopub.execute_input": "2023-01-24T07:50:07.574226Z",
     "iopub.status.busy": "2023-01-24T07:50:07.573670Z",
     "iopub.status.idle": "2023-01-24T07:50:07.592487Z",
     "shell.execute_reply": "2023-01-24T07:50:07.592055Z"
    }
   },
   "outputs": [
    {
     "data": {
      "text/plain": [
       "(-0.703969872087777, 0.6911910845037462219623751594978914260403966392716944990360937340001300242965408)"
      ]
     },
     "execution_count": 21,
     "metadata": {},
     "output_type": "execute_result"
    }
   ],
   "source": [
    "x̃ = 2*big(10.0)^100\n",
    "sin(x), sin(x̃)"
   ]
  },
  {
   "cell_type": "markdown",
   "metadata": {},
   "source": [
    "This is because we commit an error on the order of roughly\n",
    "$$\n",
    "2 * 10^{100} * ϵ_{\\rm m} \\approx 4.44 * 10^{84}\n",
    "$$\n",
    "when we round $2*10^{100}$ to the nearest float. \n",
    "\n",
    "\n",
    "**Example 7 (polynomial near root)** \n",
    "For general functions we do not generally have relative accuracy. \n",
    "For example, consider a simple\n",
    "polynomial $1 + 4x + x^2$ which has a root at $\\sqrt 3 - 2$. But"
   ]
  },
  {
   "cell_type": "code",
   "execution_count": 22,
   "metadata": {
    "execution": {
     "iopub.execute_input": "2023-01-24T07:50:07.595026Z",
     "iopub.status.busy": "2023-01-24T07:50:07.594315Z",
     "iopub.status.idle": "2023-01-24T07:50:07.973441Z",
     "shell.execute_reply": "2023-01-24T07:50:07.972837Z"
    }
   },
   "outputs": [
    {
     "data": {
      "text/plain": [
       "(6.808194126854568545271553503125001640528110233296921194323658710345625877380371e-19, 0.001962328354097166993597056716680526733398437500000000000000000000000000000000008)"
      ]
     },
     "execution_count": 22,
     "metadata": {},
     "output_type": "execute_result"
    }
   ],
   "source": [
    "f = x -> 1 + 4x + x^2\n",
    "x = sqrt(3) - 2\n",
    "abserr = abs(f(big(x)) - f(x))\n",
    "relerr = abserr/abs(f(x))\n",
    "abserr, relerr # very large relative error"
   ]
  },
  {
   "cell_type": "markdown",
   "metadata": {},
   "source": [
    "We can see this in the error bound (note that $4x$ is exact for floating point numbers\n",
    "and adding $1$ is exact for this particular $x$):\n",
    "$$\n",
    "(x ⊗ x) ⊕ 4x + 1 = (x^2 (1 + \\delta_1) + 4x)(1+\\delta_2) + 1 = x^2 + 4x + 1 + \\delta_1 x^2 + 4x \\delta_2 + x^2 \\delta_1 \\delta_2\n",
    "$$\n",
    "Using a simple bound $|x| < 1$ we get a (pessimistic) bound on the absolute error of\n",
    "$3 ϵ_{\\rm m}$. Here `f(x)` itself is less than $2 ϵ_{\\rm m}$ so this does not imply\n",
    "relative accuracy. (Of course, a bad upper bound is not the same as a proof of inaccuracy,\n",
    "but here we observe the inaccuracy in practice.)\n",
    "\n",
    "\n",
    "\n",
    "\n",
    "\n",
    "\n",
    "## 4. High-precision floating-point numbers (non-examinable)\n",
    "\n",
    "It is possible to set the precision of a floating-point number\n",
    "using the `BigFloat` type, which results from the usage of `big`\n",
    "when the result is not an integer.\n",
    "For example, here is an approximation of 1/3 accurate\n",
    "to 77 decimal digits:"
   ]
  },
  {
   "cell_type": "code",
   "execution_count": 23,
   "metadata": {
    "execution": {
     "iopub.execute_input": "2023-01-24T07:50:07.976125Z",
     "iopub.status.busy": "2023-01-24T07:50:07.975339Z",
     "iopub.status.idle": "2023-01-24T07:50:08.171567Z",
     "shell.execute_reply": "2023-01-24T07:50:08.171131Z"
    }
   },
   "outputs": [
    {
     "data": {
      "text/plain": [
       "0.3333333333333333333333333333333333333333333333333333333333333333333333333333348"
      ]
     },
     "execution_count": 23,
     "metadata": {},
     "output_type": "execute_result"
    }
   ],
   "source": [
    "big(1)/3"
   ]
  },
  {
   "cell_type": "markdown",
   "metadata": {},
   "source": [
    "Note we can set the rounding mode as in `Float64`, e.g., \n",
    "this gives (rigorous) bounds on\n",
    "`1/3`:"
   ]
  },
  {
   "cell_type": "code",
   "execution_count": 24,
   "metadata": {
    "execution": {
     "iopub.execute_input": "2023-01-24T07:50:08.173947Z",
     "iopub.status.busy": "2023-01-24T07:50:08.173218Z",
     "iopub.status.idle": "2023-01-24T07:50:08.191454Z",
     "shell.execute_reply": "2023-01-24T07:50:08.190903Z"
    }
   },
   "outputs": [
    {
     "data": {
      "text/plain": [
       "(0.3333333333333333333333333333333333333333333333333333333333333333333333333333305, 0.3333333333333333333333333333333333333333333333333333333333333333333333333333348)"
      ]
     },
     "execution_count": 24,
     "metadata": {},
     "output_type": "execute_result"
    }
   ],
   "source": [
    "setrounding(BigFloat, RoundDown) do\n",
    "  big(1)/3\n",
    "end, setrounding(BigFloat, RoundUp) do\n",
    "  big(1)/3\n",
    "end"
   ]
  },
  {
   "cell_type": "markdown",
   "metadata": {},
   "source": [
    "We can also increase the precision, e.g., this finds bounds on `1/3` accurate to \n",
    "more than 1000 decimal places:"
   ]
  },
  {
   "cell_type": "code",
   "execution_count": 25,
   "metadata": {
    "execution": {
     "iopub.execute_input": "2023-01-24T07:50:08.194204Z",
     "iopub.status.busy": "2023-01-24T07:50:08.193245Z",
     "iopub.status.idle": "2023-01-24T07:50:08.226909Z",
     "shell.execute_reply": "2023-01-24T07:50:08.226442Z"
    }
   },
   "outputs": [
    {
     "data": {
      "text/plain": [
       "(0.333333333333333333333333333333333333333333333333333333333333333333333333333333333333333333333333333333333333333333333333333333333333333333333333333333333333333333333333333333333333333333333333333333333333333333333333333333333333333333333333333333333333333333333333333333333333333333333333333333333333333333333333333333333333333333333333333333333333333333333333333333333333333333333333333333333333333333333333333333333333333333333333333333333333333333333333333333333333333333333333333333333333333333333333333333333333333333333333333333333333333333333333333333333333333333333333333333333333333333333333333333333333333333333333333333333333333333333333333333333333333333333333333333333333333333333333333333333333333333333333333333333333333333333333333333333333333333333333333333333333333333333333333333333333333333333333333333333333333333333333333333333333333333333333333333333333333333333333333333333333333333333333333333333333333333333333333333333333333333333333333333333333333333333333333333333333333333333333333333333333333333333333333333333333333333333333333333333333333333333333333333333333333333333333333333333333333333333333333333333333333333333333333333333333333333333333333333333333333333333333333308, 0.333333333333333333333333333333333333333333333333333333333333333333333333333333333333333333333333333333333333333333333333333333333333333333333333333333333333333333333333333333333333333333333333333333333333333333333333333333333333333333333333333333333333333333333333333333333333333333333333333333333333333333333333333333333333333333333333333333333333333333333333333333333333333333333333333333333333333333333333333333333333333333333333333333333333333333333333333333333333333333333333333333333333333333333333333333333333333333333333333333333333333333333333333333333333333333333333333333333333333333333333333333333333333333333333333333333333333333333333333333333333333333333333333333333333333333333333333333333333333333333333333333333333333333333333333333333333333333333333333333333333333333333333333333333333333333333333333333333333333333333333333333333333333333333333333333333333333333333333333333333333333333333333333333333333333333333333333333333333333333333333333333333333333333333333333333333333333333333333333333333333333333333333333333333333333333333333333333333333333333333333333333333333333333333333333333333333333333333333333333333333333333333333333333333333333333333333333333333333333333333333333346)"
      ]
     },
     "execution_count": 25,
     "metadata": {},
     "output_type": "execute_result"
    }
   ],
   "source": [
    "setprecision(4_000) do # 4000 bit precision\n",
    "  setrounding(BigFloat, RoundDown) do\n",
    "    big(1)/3\n",
    "  end, setrounding(BigFloat, RoundUp) do\n",
    "    big(1)/3\n",
    "  end\n",
    "end"
   ]
  },
  {
   "cell_type": "markdown",
   "metadata": {},
   "source": [
    "In the labs we shall see how this can be used to rigorously bound ${\\rm e}$,\n",
    "accurate to 1000 digits."
   ]
  }
 ],
 "metadata": {
  "kernelspec": {
   "display_name": "Julia 1.8.3",
   "language": "julia",
   "name": "julia-1.8"
  },
  "language_info": {
   "file_extension": ".jl",
   "mimetype": "application/julia",
   "name": "julia",
   "version": "1.8.3"
  }
 },
 "nbformat": 4,
 "nbformat_minor": 2
}
